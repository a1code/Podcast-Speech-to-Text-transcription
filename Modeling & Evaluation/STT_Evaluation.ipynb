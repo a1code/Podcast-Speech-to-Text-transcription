{
  "nbformat": 4,
  "nbformat_minor": 0,
  "metadata": {
    "colab": {
      "name": "STT-Evaluation.ipynb",
      "provenance": []
    },
    "kernelspec": {
      "name": "python3",
      "display_name": "Python 3"
    },
    "language_info": {
      "name": "python"
    },
    "accelerator": "GPU"
  },
  "cells": [
    {
      "cell_type": "code",
      "metadata": {
        "colab": {
          "base_uri": "https://localhost:8080/"
        },
        "id": "fv0HDL9p5yYI",
        "outputId": "370e6955-e3bd-4334-bdd6-4e69d520a50c"
      },
      "source": [
        "from google.colab import drive\n",
        "drive.mount('/content/drive')"
      ],
      "execution_count": null,
      "outputs": [
        {
          "output_type": "stream",
          "name": "stdout",
          "text": [
            "Mounted at /content/drive\n"
          ]
        }
      ]
    },
    {
      "cell_type": "code",
      "source": [
        "import zipfile\n",
        "import pickle\n",
        "from collections import OrderedDict\n",
        "import torch\n",
        "import torch.nn as nn\n",
        "import torch.optim as optim\n",
        "from torch.utils.data import DataLoader\n",
        "from torch.utils.data import Dataset\n",
        "from torch.nn.utils.rnn import pad_sequence\n",
        "import torchaudio\n",
        "import math\n",
        "import random\n",
        "import numpy as np\n",
        "import io\n",
        "import matplotlib.pyplot as plt\n",
        "import matplotlib.animation as animation\n",
        "from IPython.display import HTML"
      ],
      "metadata": {
        "id": "mE-K-xJypMF_"
      },
      "execution_count": null,
      "outputs": []
    },
    {
      "cell_type": "markdown",
      "source": [
        "Setup / Configs"
      ],
      "metadata": {
        "id": "pM_qSvoo7B2-"
      }
    },
    {
      "cell_type": "code",
      "source": [
        "assert torch.cuda.is_available(), 'GPU unavailable'"
      ],
      "metadata": {
        "id": "MemyimKJ7L3Y"
      },
      "execution_count": null,
      "outputs": []
    },
    {
      "cell_type": "code",
      "source": [
        "print('Number of GPUs available : ', torch.cuda.device_count())"
      ],
      "metadata": {
        "id": "hDMO2Qlq7MiS",
        "colab": {
          "base_uri": "https://localhost:8080/"
        },
        "outputId": "a03d1f0f-70e7-40c5-834a-c55320e6b6b8"
      },
      "execution_count": null,
      "outputs": [
        {
          "output_type": "stream",
          "name": "stdout",
          "text": [
            "Number of GPUs available :  1\n"
          ]
        }
      ]
    },
    {
      "cell_type": "code",
      "source": [
        "MODEL_CHECKPOINT = '/content/drive/MyDrive/Fall2021-CAPSTONE/checkpoint.pt'"
      ],
      "metadata": {
        "id": "G-OCgvmppOAw"
      },
      "execution_count": null,
      "outputs": []
    },
    {
      "cell_type": "code",
      "source": [
        "EVAL_CHECKPOINT = '/content/drive/MyDrive/Fall2021-CAPSTONE/eval_checkpoint.pt'"
      ],
      "metadata": {
        "id": "Lg40VJZGhGmP"
      },
      "execution_count": null,
      "outputs": []
    },
    {
      "cell_type": "code",
      "source": [
        "TEST_CHECKPOINT = '/content/drive/MyDrive/Fall2021-CAPSTONE/test_checkpoint.pt'"
      ],
      "metadata": {
        "id": "e9ze4AtkEVxs"
      },
      "execution_count": null,
      "outputs": []
    },
    {
      "cell_type": "code",
      "source": [
        "# zip file handler  \n",
        "zip = zipfile.ZipFile('/content/drive/MyDrive/Fall2021-CAPSTONE/2-DataPreparation/DataSplits_bkp.zip')"
      ],
      "metadata": {
        "id": "g3q4E0Pqb93-"
      },
      "execution_count": null,
      "outputs": []
    },
    {
      "cell_type": "code",
      "source": [
        "# Number of workers for dataloader\n",
        "workers = 2\n",
        "\n",
        "# Batch size during training\n",
        "batch_size = 32\n",
        "\n",
        "# Load size during training\n",
        "load_size = 1280\n",
        "\n",
        "# Number of GPUs available. Use 0 for CPU mode.\n",
        "ngpu = 1"
      ],
      "metadata": {
        "id": "-S5MvxD-pRGy"
      },
      "execution_count": null,
      "outputs": []
    },
    {
      "cell_type": "markdown",
      "source": [
        "Vocabulary"
      ],
      "metadata": {
        "id": "D7pp15mS7RJe"
      }
    },
    {
      "cell_type": "code",
      "source": [
        "chars = ' abcdefghijklmnopqrstuvwxyz'\n",
        "vocab = ['<blank>', '<pad>', '<unk>']\n",
        "for ch in chars:\n",
        "  vocab.append(ch)"
      ],
      "metadata": {
        "id": "GIoxqo5CpS77"
      },
      "execution_count": null,
      "outputs": []
    },
    {
      "cell_type": "code",
      "source": [
        "VOCAB_LEN = len(vocab)\n",
        "print('Vocab size: {} (with BLNK, PAD, UNK and SPACE added)'.format(VOCAB_LEN))\n",
        "print('vocab[0]:', vocab[0])\n",
        "print('vocab[1]:', vocab[1])\n",
        "print('vocab[2]:', vocab[2])\n",
        "print('vocab[3]:', vocab[3])"
      ],
      "metadata": {
        "colab": {
          "base_uri": "https://localhost:8080/"
        },
        "id": "xSc377wcpVc6",
        "outputId": "a5cd48b7-ae25-48ca-ac24-ce19b21cb0d1"
      },
      "execution_count": null,
      "outputs": [
        {
          "output_type": "stream",
          "name": "stdout",
          "text": [
            "Vocab size: 30 (with BLNK, PAD, UNK and SPACE added)\n",
            "vocab[0]: <blank>\n",
            "vocab[1]: <pad>\n",
            "vocab[2]: <unk>\n",
            "vocab[3]:  \n"
          ]
        }
      ]
    },
    {
      "cell_type": "code",
      "source": [
        "with open('/content/drive/MyDrive/Fall2021-CAPSTONE/max_len.pickle', 'rb') as f2:\n",
        "  MAX_LEN = pickle.load(f2)\n",
        "print('Max target length : ', MAX_LEN)"
      ],
      "metadata": {
        "colab": {
          "base_uri": "https://localhost:8080/"
        },
        "id": "rj4qV9p6pXhN",
        "outputId": "c77f81c3-25c9-44f2-9d78-8a8471960a7e"
      },
      "execution_count": null,
      "outputs": [
        {
          "output_type": "stream",
          "name": "stdout",
          "text": [
            "Max target length :  105\n"
          ]
        }
      ]
    },
    {
      "cell_type": "markdown",
      "source": [
        "Encoder"
      ],
      "metadata": {
        "id": "703JyyX-7Z4V"
      }
    },
    {
      "cell_type": "code",
      "source": [
        "class Encoder(nn.Module):\n",
        "  def __init__(self):\n",
        "    super().__init__()\n",
        "    self.spec = torchaudio.transforms.MelSpectrogram(sample_rate=16000, n_mels=80)\n",
        "\n",
        "  def forward(self, input_X):\n",
        "    X_len = []\n",
        "    AUDIO = []\n",
        "    for X in input_X:\n",
        "      waveform, sample_rate = torchaudio.load(io.BytesIO(X))\n",
        "      audio_tensor = self.spec(waveform).squeeze(0).transpose(1, 0)\n",
        "      # print('spectrogram', audio_tensor.shape)\n",
        "      AUDIO.append(audio_tensor)\n",
        "      X_len.append(audio_tensor.shape[0])\n",
        "    AUDIO = pad_sequence(AUDIO, padding_value=1.)\n",
        "    # print('encoder', AUDIO.shape)\n",
        "    # print(X_len)\n",
        "    return AUDIO, X_len"
      ],
      "metadata": {
        "id": "YVOpDBB6paEC"
      },
      "execution_count": null,
      "outputs": []
    },
    {
      "cell_type": "markdown",
      "source": [
        "Decoder"
      ],
      "metadata": {
        "id": "JND3jvWT7eWW"
      }
    },
    {
      "cell_type": "code",
      "source": [
        "class OverLastDim(nn.Module):\n",
        "    \"\"\"\n",
        "    An n-dimensional tensor of shape (s_1, s_2, ..., s_n) is first collapsed to\n",
        "    a tensor with shape (s_1*s_2*...*s_n-1, s_n). The module is called with\n",
        "    this as input producing (s_1*s_2*...*s_n-1, s_n') --- note that the final\n",
        "    dimension can change. This is expanded to (s_1, s_2, ..., s_n-1, s_n') and\n",
        "    returned.\n",
        "    \"\"\"\n",
        "\n",
        "    def __init__(self, module):\n",
        "        super().__init__()\n",
        "        self.module = module\n",
        "\n",
        "    def forward(self, x):\n",
        "        *dims, input_size = x.size()\n",
        "\n",
        "        reduced_dims = 1\n",
        "        for dim in dims:\n",
        "            reduced_dims *= dim\n",
        "\n",
        "        x = x.view(reduced_dims, -1)\n",
        "        x = self.module(x)\n",
        "        x = x.view(*dims, -1)\n",
        "        return x"
      ],
      "metadata": {
        "id": "HoKAirltpe6s"
      },
      "execution_count": null,
      "outputs": []
    },
    {
      "cell_type": "code",
      "source": [
        "class RNNWrapper(nn.Module):\n",
        "    def __init__(self, input_size, hidden_size, rnn_type=nn.GRU,\n",
        "                 bidirectional=True, batch_norm=True):\n",
        "        \"\"\"Instantiates an RNN without bias parameters. Optionally applies a batch\n",
        "        normalisation layer to the input with the statistics computed over all\n",
        "        time steps. If the RNN is bidirectional, the output from the forward\n",
        "        and backward units is summed before return.\n",
        "        \"\"\"\n",
        "        super().__init__()\n",
        "        if batch_norm:\n",
        "            self.batch_norm = OverLastDim(nn.BatchNorm1d(input_size))\n",
        "        self.bidirectional = bidirectional\n",
        "        self.rnn = rnn_type(input_size=input_size,\n",
        "                            hidden_size=hidden_size,\n",
        "                            bidirectional=bidirectional,\n",
        "                            bias=False)\n",
        "\n",
        "    def forward(self, x):\n",
        "        if hasattr(self, 'batch_norm'):\n",
        "            x = self.batch_norm(x)\n",
        "        x, _ = self.rnn(x)\n",
        "        if self.bidirectional:\n",
        "            # TxNx(H*2) -> TxNxH by sum.\n",
        "            seq_len, batch_size, _ = x.size()\n",
        "            x = x.view(seq_len, batch_size, 2, -1) \\\n",
        "                 .sum(dim=2) \\\n",
        "                 .view(seq_len, batch_size, -1)\n",
        "        return x"
      ],
      "metadata": {
        "id": "2UcTM5iMphUJ"
      },
      "execution_count": null,
      "outputs": []
    },
    {
      "cell_type": "code",
      "source": [
        "class Decoder(nn.Module):\n",
        "\n",
        "  def __init__(self, in_features=80, n_hidden=MAX_LEN, out_features=VOCAB_LEN, rnn_layers=3, relu_clip=20.):\n",
        "    super().__init__()\n",
        "    \n",
        "    # CONVOLUTIONAL layers\n",
        "    self.conv = nn.Sequential(\n",
        "        nn.Conv2d(in_channels=1,\n",
        "                  out_channels=32,\n",
        "                  kernel_size=5,\n",
        "                  stride=1,\n",
        "                  padding='same'),\n",
        "        nn.BatchNorm2d(32),\n",
        "        nn.Hardtanh(0, relu_clip, inplace=True),\n",
        "        nn.Conv2d(in_channels=32,\n",
        "                  out_channels=32,\n",
        "                  kernel_size=5,\n",
        "                  stride=1,\n",
        "                  padding='same'),\n",
        "        nn.BatchNorm2d(32),\n",
        "        nn.Hardtanh(0, relu_clip, inplace=True)\n",
        "    )\n",
        "\n",
        "    # RECURRENT layers\n",
        "    rnn_in_size = 2560\n",
        "    rnns = OrderedDict()\n",
        "    for i in range(rnn_layers):\n",
        "      rnn = RNNWrapper(input_size=rnn_in_size,\n",
        "                        hidden_size=n_hidden,\n",
        "                        rnn_type=nn.GRU,\n",
        "                        bidirectional=True,\n",
        "                        batch_norm=i > 0)\n",
        "      rnns[str(i)] = rnn\n",
        "      rnn_in_size = n_hidden\n",
        "    self.rnns = nn.Sequential(rnns)\n",
        "\n",
        "    # FULLY CONNECTED layers\n",
        "    fully_connected = nn.Sequential(\n",
        "        nn.BatchNorm1d(n_hidden),\n",
        "        nn.Linear(n_hidden, out_features, bias=False)\n",
        "    )\n",
        "    self.fc = OverLastDim(fully_connected)\n",
        "\n",
        "  # for training\n",
        "  def forward(self, X_in, X_len, Y_in, Y_len):\n",
        "    \"\"\"\n",
        "    Perform token prediction and compute loss over training set.\n",
        "    \n",
        "    Inputs:\n",
        "    - X_in: A tensor of shape (seq_len, batch, in_features)\n",
        "      containing a mini-batch of audio sequence features padded to seq_len.\n",
        "    - X_len: A tuple of shape (batch, ) containing the \n",
        "      actual lengths of the audio sequence (each <= seq_len).\n",
        "    - Y_in: A tensor of shape (batch, max_seq_len)\n",
        "      containing a mini-batch of text targets padded to max_seq_len.\n",
        "      Each element in the target sequence is an index in the vocabulary. \n",
        "      And the target index cannot be blank (index=0 in vocab).\n",
        "    - Y_len: A tuple of shape (batch, ) containing the \n",
        "      actual lengths of the targets (each <= max_seq_len).\n",
        "    \n",
        "    Returns:\n",
        "    - loss: A PyTorch scalar containing the CTC loss for the mini-batch.\n",
        "    \"\"\"\n",
        "    # training logic here\n",
        "    # print('before conv', X_in.shape)\n",
        "    X_in = X_in.permute(1, 2, 0)   # TxNxH -> NxHxT\n",
        "    X_in.unsqueeze_(dim=1)      # NxHxT -> Nx1xHxT\n",
        "    X_in = self.conv(X_in)\n",
        "    # print('after conv', X_in.shape)\n",
        "\n",
        "    N, H1, H2, T = X_in.size()\n",
        "    x = X_in.view(N, H1*H2, T)\n",
        "    x = x.permute(2, 0, 1)   # NxHxT -> TxNxH\n",
        "    x = self.rnns(x.contiguous())\n",
        "    # print('after rnns', x.shape)\n",
        "\n",
        "    out = self.fc(x)\n",
        "    logprobs = nn.functional.log_softmax(out, dim=2)\n",
        "    # print('decoder', logprobs.shape)\n",
        "    \n",
        "    # compute CTC loss\n",
        "    ctc_loss = nn.CTCLoss(zero_infinity=True)\n",
        "    loss = ctc_loss(logprobs, Y_in, X_len, Y_len)\n",
        "    return loss \n",
        "\n",
        "  # for inference\n",
        "  def predict(self, X_in):\n",
        "    \"\"\"\n",
        "    Perform token prediction over validation/test set.\n",
        "    \n",
        "    Inputs:\n",
        "    - X_in: A tensor of shape (seq_len, batch, in_features)\n",
        "      containing a mini-batch of audio features padded to seq_len.\n",
        "    \n",
        "    Returns:\n",
        "    - text: A tuple of shape (batch_size, )\n",
        "      containing text output for the given batch.\n",
        "    \"\"\"\n",
        "    # inference logic here\n",
        "    X_in = X_in.permute(1, 2, 0)   # TxNxH -> NxHxT\n",
        "    X_in.unsqueeze_(dim=1)      # NxHxT -> Nx1xHxT\n",
        "    X_in = self.conv(X_in)\n",
        "\n",
        "    N, H1, H2, T = X_in.size()\n",
        "    x = X_in.view(N, H1*H2, T)\n",
        "    x = x.permute(2, 0, 1)   # NxHxT -> TxNxH\n",
        "    x = self.rnns(x.contiguous())\n",
        "    out = self.fc(x)\n",
        "    logprobs = nn.functional.log_softmax(out, dim=2)\n",
        "    _, max_indices = logprobs.float().max(2)\n",
        "    \n",
        "    batch_sentences = []\n",
        "    for i, indices in enumerate(max_indices.t()):\n",
        "        no_dups, prev = [], None\n",
        "        for index in indices:\n",
        "            if prev is None or index != prev:\n",
        "                no_dups.append(index.item())\n",
        "                prev = index\n",
        "\n",
        "        symbols = [vocab[s] for s in no_dups]\n",
        "\n",
        "        no_blanks = [s for s in symbols if (s!=vocab[0] and s!=vocab[1])]\n",
        "        batch_sentences.append(''.join(no_blanks))\n",
        "    return batch_sentences"
      ],
      "metadata": {
        "id": "8gIXajjHpjk-"
      },
      "execution_count": null,
      "outputs": []
    },
    {
      "cell_type": "markdown",
      "source": [
        "Evaluation Setup"
      ],
      "metadata": {
        "id": "j1_vSskr7qfB"
      }
    },
    {
      "cell_type": "code",
      "source": [
        "class CustomDataset(Dataset):\n",
        "    def __init__(self, listOfFiles):\n",
        "      '''\n",
        "      Takes as input the list of file paths containing X-audio, Y-text data.\n",
        "      Stores the audio data in a member variable X.\n",
        "      Stores the text data in a member variable Y.\n",
        "      '''\n",
        "      # opening the files and storing their contents in lists\n",
        "      audio_list = []\n",
        "      listOfAudioFiles = [x for x in listOfFiles if x.endswith('.wav')]\n",
        "      for audio_file in listOfAudioFiles:\n",
        "        audio_list.append(zip.read(audio_file))\n",
        "      \n",
        "      text_list = []\n",
        "      listOfTxtFiles = [x for x in listOfFiles if x.endswith('.txt')]\n",
        "      for text_file in listOfTxtFiles:\n",
        "        loaded_txt = zip.read(text_file)\n",
        "        text_list.append(loaded_txt)\n",
        "\n",
        "      # store them in member variables\n",
        "      self.X = audio_list\n",
        "      self.Y = text_list\n",
        "    \n",
        "    def __len__(self):\n",
        "      return len(self.Y)\n",
        "   \n",
        "    def __getitem__(self, index):\n",
        "      '''\n",
        "      Returns the X,Y pair present at the specified index of the list.\n",
        "      '''\n",
        "      return self.X[index], self.Y[index]"
      ],
      "metadata": {
        "id": "F8azGnmmplqT"
      },
      "execution_count": null,
      "outputs": []
    },
    {
      "cell_type": "code",
      "source": [
        "enc = Encoder()"
      ],
      "metadata": {
        "id": "yj8hq2e6pqh9"
      },
      "execution_count": null,
      "outputs": []
    },
    {
      "cell_type": "code",
      "source": [
        "dec = Decoder()\n",
        "dec"
      ],
      "metadata": {
        "colab": {
          "base_uri": "https://localhost:8080/"
        },
        "id": "Z39g7psTps6t",
        "outputId": "b64c50f3-4876-43c7-efb6-a4a6c376ad9c"
      },
      "execution_count": null,
      "outputs": [
        {
          "output_type": "execute_result",
          "data": {
            "text/plain": [
              "Decoder(\n",
              "  (conv): Sequential(\n",
              "    (0): Conv2d(1, 32, kernel_size=(5, 5), stride=(1, 1), padding=same)\n",
              "    (1): BatchNorm2d(32, eps=1e-05, momentum=0.1, affine=True, track_running_stats=True)\n",
              "    (2): Hardtanh(min_val=0, max_val=20.0, inplace=True)\n",
              "    (3): Conv2d(32, 32, kernel_size=(5, 5), stride=(1, 1), padding=same)\n",
              "    (4): BatchNorm2d(32, eps=1e-05, momentum=0.1, affine=True, track_running_stats=True)\n",
              "    (5): Hardtanh(min_val=0, max_val=20.0, inplace=True)\n",
              "  )\n",
              "  (rnns): Sequential(\n",
              "    (0): RNNWrapper(\n",
              "      (rnn): GRU(2560, 105, bias=False, bidirectional=True)\n",
              "    )\n",
              "    (1): RNNWrapper(\n",
              "      (batch_norm): OverLastDim(\n",
              "        (module): BatchNorm1d(105, eps=1e-05, momentum=0.1, affine=True, track_running_stats=True)\n",
              "      )\n",
              "      (rnn): GRU(105, 105, bias=False, bidirectional=True)\n",
              "    )\n",
              "    (2): RNNWrapper(\n",
              "      (batch_norm): OverLastDim(\n",
              "        (module): BatchNorm1d(105, eps=1e-05, momentum=0.1, affine=True, track_running_stats=True)\n",
              "      )\n",
              "      (rnn): GRU(105, 105, bias=False, bidirectional=True)\n",
              "    )\n",
              "  )\n",
              "  (fc): OverLastDim(\n",
              "    (module): Sequential(\n",
              "      (0): BatchNorm1d(105, eps=1e-05, momentum=0.1, affine=True, track_running_stats=True)\n",
              "      (1): Linear(in_features=105, out_features=30, bias=False)\n",
              "    )\n",
              "  )\n",
              ")"
            ]
          },
          "metadata": {},
          "execution_count": 19
        }
      ]
    },
    {
      "cell_type": "code",
      "source": [
        "loss_history = []\n",
        "\n",
        "epoch = 0\n",
        "load_index = 0\n",
        "batch_index = 0\n",
        "loss = None"
      ],
      "metadata": {
        "id": "ou3dOdR1pus7"
      },
      "execution_count": null,
      "outputs": []
    },
    {
      "cell_type": "code",
      "source": [
        "checkpoint = None\n",
        "try:\n",
        "  checkpoint = torch.load(MODEL_CHECKPOINT, map_location=torch.device('cpu'))\n",
        "except Exception as e:\n",
        "  print(e)\n",
        "  pass"
      ],
      "metadata": {
        "id": "EXMWfLJ-pxZr"
      },
      "execution_count": null,
      "outputs": []
    },
    {
      "cell_type": "code",
      "source": [
        "if checkpoint is not None and bool(checkpoint):\n",
        "  if 'loss_history' in checkpoint and len(checkpoint['loss_history']) > 0:\n",
        "    loss_history = [float(x) for x in checkpoint['loss_history'].split(',')]"
      ],
      "metadata": {
        "id": "c1jTDJEnpzqO"
      },
      "execution_count": null,
      "outputs": []
    },
    {
      "cell_type": "code",
      "source": [
        "# Plot loss history\n",
        "plt.plot(loss_history)\n",
        "plt.xlabel('Iteration number')\n",
        "plt.ylabel('Loss value')\n",
        "plt.show()"
      ],
      "metadata": {
        "colab": {
          "base_uri": "https://localhost:8080/",
          "height": 279
        },
        "id": "wHRRKBPeqELG",
        "outputId": "80d9a6c4-1ebe-43bb-f2cf-0ec0d5fb317c"
      },
      "execution_count": null,
      "outputs": [
        {
          "output_type": "display_data",
          "data": {
            "image/png": "[encoded data removed]",
            "text/plain": [
              "<Figure size 432x288 with 1 Axes>"
            ]
          },
          "metadata": {
            "needs_background": "light"
          }
        }
      ]
    },
    {
      "cell_type": "code",
      "source": [
        "if 'model_state_dict' in checkpoint:\n",
        "  dec.load_state_dict(checkpoint['model_state_dict'])\n",
        "dec.cuda()"
      ],
      "metadata": {
        "id": "vZRrCBWWp6Lj",
        "colab": {
          "base_uri": "https://localhost:8080/"
        },
        "outputId": "ed7a6f13-8c63-4144-8cef-e5dcdf4faad6"
      },
      "execution_count": null,
      "outputs": [
        {
          "output_type": "execute_result",
          "data": {
            "text/plain": [
              "Decoder(\n",
              "  (conv): Sequential(\n",
              "    (0): Conv2d(1, 32, kernel_size=(5, 5), stride=(1, 1), padding=same)\n",
              "    (1): BatchNorm2d(32, eps=1e-05, momentum=0.1, affine=True, track_running_stats=True)\n",
              "    (2): Hardtanh(min_val=0, max_val=20.0, inplace=True)\n",
              "    (3): Conv2d(32, 32, kernel_size=(5, 5), stride=(1, 1), padding=same)\n",
              "    (4): BatchNorm2d(32, eps=1e-05, momentum=0.1, affine=True, track_running_stats=True)\n",
              "    (5): Hardtanh(min_val=0, max_val=20.0, inplace=True)\n",
              "  )\n",
              "  (rnns): Sequential(\n",
              "    (0): RNNWrapper(\n",
              "      (rnn): GRU(2560, 105, bias=False, bidirectional=True)\n",
              "    )\n",
              "    (1): RNNWrapper(\n",
              "      (batch_norm): OverLastDim(\n",
              "        (module): BatchNorm1d(105, eps=1e-05, momentum=0.1, affine=True, track_running_stats=True)\n",
              "      )\n",
              "      (rnn): GRU(105, 105, bias=False, bidirectional=True)\n",
              "    )\n",
              "    (2): RNNWrapper(\n",
              "      (batch_norm): OverLastDim(\n",
              "        (module): BatchNorm1d(105, eps=1e-05, momentum=0.1, affine=True, track_running_stats=True)\n",
              "      )\n",
              "      (rnn): GRU(105, 105, bias=False, bidirectional=True)\n",
              "    )\n",
              "  )\n",
              "  (fc): OverLastDim(\n",
              "    (module): Sequential(\n",
              "      (0): BatchNorm1d(105, eps=1e-05, momentum=0.1, affine=True, track_running_stats=True)\n",
              "      (1): Linear(in_features=105, out_features=30, bias=False)\n",
              "    )\n",
              "  )\n",
              ")"
            ]
          },
          "metadata": {},
          "execution_count": 24
        }
      ]
    },
    {
      "cell_type": "markdown",
      "source": [
        "Evaluation Metrics"
      ],
      "metadata": {
        "id": "r89nxEM5789-"
      }
    },
    {
      "cell_type": "code",
      "source": [
        "def levenshtein_distance(ref, hyp):\n",
        "    \"\"\"Levenshtein distance is the minimum number of single-character\n",
        "    edits (substitutions, insertions or deletions) required to change \n",
        "    one word into the other.\n",
        "    \"\"\"\n",
        "    m = len(ref)\n",
        "    n = len(hyp)\n",
        "\n",
        "    if ref == hyp:\n",
        "        return 0\n",
        "    if m == 0:\n",
        "        return n\n",
        "    if n == 0:\n",
        "        return m\n",
        "\n",
        "    if m < n:\n",
        "        ref, hyp = hyp, ref\n",
        "        m, n = n, m\n",
        "\n",
        "    distance = np.zeros((2, n + 1), dtype=np.int32)\n",
        "\n",
        "    # initialize distance matrix\n",
        "    for j in range(0,n + 1):\n",
        "        distance[0][j] = j\n",
        "\n",
        "    # compute levenshtein distance\n",
        "    for i in range(1, m + 1):\n",
        "        prev_row_idx = (i - 1) % 2\n",
        "        cur_row_idx = i % 2\n",
        "        distance[cur_row_idx][0] = i\n",
        "        for j in range(1, n + 1):\n",
        "            if ref[i - 1] == hyp[j - 1]:\n",
        "                distance[cur_row_idx][j] = distance[prev_row_idx][j - 1]\n",
        "            else:\n",
        "                s_num = distance[prev_row_idx][j - 1] + 1\n",
        "                i_num = distance[cur_row_idx][j - 1] + 1\n",
        "                d_num = distance[prev_row_idx][j] + 1\n",
        "                distance[cur_row_idx][j] = min(s_num, i_num, d_num)\n",
        "\n",
        "    return distance[m % 2][n]\n",
        "\n",
        "\n",
        "def word_errors(reference, hypothesis, ignore_case=False, delimiter=' '):\n",
        "    \"\"\"Compute the levenshtein distance between reference sequence and\n",
        "    hypothesis sequence at word-level.\n",
        "    \"\"\"\n",
        "    if ignore_case == True:\n",
        "        reference = reference.lower()\n",
        "        hypothesis = hypothesis.lower()\n",
        "\n",
        "    ref_words = reference.split(delimiter)\n",
        "    hyp_words = hypothesis.split(delimiter)\n",
        "\n",
        "    edit_distance = levenshtein_distance(ref_words, hyp_words)\n",
        "    return float(edit_distance), len(ref_words)\n",
        "\n",
        "\n",
        "def char_errors(reference, hypothesis, ignore_case=False, remove_space=False):\n",
        "    \"\"\"Compute the levenshtein distance between reference sequence and\n",
        "    hypothesis sequence at char-level.\n",
        "    \"\"\"\n",
        "    if ignore_case == True:\n",
        "        reference = reference.lower()\n",
        "        hypothesis = hypothesis.lower()\n",
        "\n",
        "    join_char = ' '\n",
        "    if remove_space == True:\n",
        "        join_char = ''\n",
        "\n",
        "    reference = join_char.join(filter(None, reference.split(' ')))\n",
        "    hypothesis = join_char.join(filter(None, hypothesis.split(' ')))\n",
        "\n",
        "    edit_distance = levenshtein_distance(reference, hypothesis)\n",
        "    return float(edit_distance), len(reference)\n",
        "\n",
        "\n",
        "def wer(reference, hypothesis, ignore_case=False, delimiter=' '):\n",
        "    \"\"\"Calculate word error rate (WER). WER compares reference text and\n",
        "    hypothesis text at word-level. WER is defined as:\n",
        "    .. math::\n",
        "        WER = (Sw + Dw + Iw) / Nw\n",
        "    where\n",
        "    .. code-block:: text\n",
        "        Sw is the number of words subsituted,\n",
        "        Dw is the number of words deleted,\n",
        "        Iw is the number of words inserted,\n",
        "        Nw is the number of words in the reference\n",
        "    We can use levenshtein distance to calculate WER.\n",
        "    \"\"\"\n",
        "    edit_distance, ref_len = word_errors(reference, hypothesis, ignore_case,\n",
        "                                         delimiter)\n",
        "\n",
        "    if ref_len == 0:\n",
        "        raise ValueError(\"Reference's word number should be greater than 0.\")\n",
        "\n",
        "    wer = float(edit_distance) / ref_len\n",
        "    return wer\n",
        "\n",
        "\n",
        "def cer(reference, hypothesis, ignore_case=False, remove_space=False):\n",
        "    \"\"\"Calculate charactor error rate (CER). CER compares reference text and\n",
        "    hypothesis text at char-level. CER is defined as:\n",
        "    .. math::\n",
        "        CER = (Sc + Dc + Ic) / Nc\n",
        "    where\n",
        "    .. code-block:: text\n",
        "        Sc is the number of characters substituted,\n",
        "        Dc is the number of characters deleted,\n",
        "        Ic is the number of characters inserted\n",
        "        Nc is the number of characters in the reference\n",
        "    We can use levenshtein distance to calculate CER.\n",
        "    \"\"\"\n",
        "    edit_distance, ref_len = char_errors(reference, hypothesis, ignore_case,\n",
        "                                         remove_space)\n",
        "\n",
        "    if ref_len == 0:\n",
        "        raise ValueError(\"Length of reference should be greater than 0.\")\n",
        "\n",
        "    cer = float(edit_distance) / ref_len\n",
        "    return cer"
      ],
      "metadata": {
        "id": "fpsbP6GPqLSr"
      },
      "execution_count": null,
      "outputs": []
    },
    {
      "cell_type": "code",
      "source": [
        "def evaluation(Y, Y_hat):\n",
        "  c = 0.\n",
        "  x = 0.\n",
        "  y = 0.\n",
        "  z = 0.\n",
        "  for i, Y_hat_i in enumerate(Y_hat):\n",
        "    # print('actual : ', Y[i].lower(), 'predicted : ', Y_hat_i)\n",
        "    x += levenshtein_distance(Y[i].decode(\"utf-8\"), Y_hat_i)\n",
        "    y += cer(Y[i].decode(\"utf-8\"), Y_hat_i)\n",
        "    z += wer(Y[i].decode(\"utf-8\"), Y_hat_i)\n",
        "    c += 1\n",
        "\n",
        "  return x/c, y/c, z/c"
      ],
      "metadata": {
        "id": "i0rz-FfNqWMM"
      },
      "execution_count": null,
      "outputs": []
    },
    {
      "cell_type": "markdown",
      "source": [
        "Evaluation on Validation Set"
      ],
      "metadata": {
        "id": "egj2lctRRP_5"
      }
    },
    {
      "cell_type": "code",
      "source": [
        "with open('/content/drive/MyDrive/Fall2021-CAPSTONE/validate_list.pickle', 'rb') as f4:\n",
        "  validate_list = pickle.load(f4)\n",
        "print('Total validation load : ', len(validate_list))"
      ],
      "metadata": {
        "colab": {
          "base_uri": "https://localhost:8080/"
        },
        "id": "K91gEv5xqZIE",
        "outputId": "d02a2cc7-2823-4fe2-b48d-cd1312adfa61"
      },
      "execution_count": null,
      "outputs": [
        {
          "output_type": "stream",
          "name": "stdout",
          "text": [
            "Total validation load :  106802\n"
          ]
        }
      ]
    },
    {
      "cell_type": "code",
      "source": [
        "results_per_batch = []\n",
        "load_index = 0\n",
        "batch_index = 0"
      ],
      "metadata": {
        "id": "Vcpgh8BKhgFK"
      },
      "execution_count": null,
      "outputs": []
    },
    {
      "cell_type": "code",
      "source": [
        "eval_checkpoint = None\n",
        "try:\n",
        "  eval_checkpoint = torch.load(EVAL_CHECKPOINT, map_location=torch.device('cpu'))\n",
        "except Exception as e:\n",
        "  print(e)\n",
        "  pass"
      ],
      "metadata": {
        "colab": {
          "base_uri": "https://localhost:8080/"
        },
        "id": "LgOHzkFGiBgT",
        "outputId": "0a9d6729-bb39-4bf2-bdc8-e3758a872709"
      },
      "execution_count": null,
      "outputs": [
        {
          "output_type": "stream",
          "name": "stdout",
          "text": [
            "[Errno 2] No such file or directory: '/content/drive/MyDrive/Fall2021-CAPSTONE/eval_checkpoint.pt'\n"
          ]
        }
      ]
    },
    {
      "cell_type": "code",
      "source": [
        "if eval_checkpoint is not None and bool(eval_checkpoint):\n",
        "  if 'results_per_batch' in eval_checkpoint and len(eval_checkpoint['results_per_batch']) > 0:\n",
        "    results_per_batch = [float(x) for x in eval_checkpoint['results_per_batch'].split(',')]"
      ],
      "metadata": {
        "id": "0i24qd3DiL_4"
      },
      "execution_count": null,
      "outputs": []
    },
    {
      "cell_type": "code",
      "source": [
        "print(\"Starting Validation Evaluation Loop...\")\n",
        "dec.eval()\n",
        "while load_index < math.ceil(len(validate_list)/load_size):\n",
        "  # create a dataset object\n",
        "  dset = CustomDataset(validate_list[load_index*load_size:(load_index*load_size)+load_size])\n",
        "  # wrap it around a dataloader\n",
        "  data_loader = DataLoader(dset, batch_size = batch_size, num_workers = workers)\n",
        "\n",
        "  for idx, ( X_batch, Y_batch) in enumerate(data_loader):\n",
        "    if idx < batch_index:\n",
        "      continue\n",
        "    # forward propagation\n",
        "    X_in, X_len = enc(X_batch)\n",
        "    Y_pred = dec.predict(X_in.cuda())\n",
        "\n",
        "    # evaluation\n",
        "    avg_ld, avg_cer, avg_wer = evaluation(Y_batch, Y_pred)\n",
        "    results_per_batch.append((avg_ld, avg_cer, avg_wer))\n",
        "    batch_index += 1\n",
        "  \n",
        "  batch_index = 0\n",
        "  load_index += 1\n",
        "  print('Load', load_index)\n",
        "  torch.save({\n",
        "      'results_per_batch': ','.join([str(x) for x in results_per_batch])\n",
        "      }, EVAL_CHECKPOINT)"
      ],
      "metadata": {
        "colab": {
          "base_uri": "https://localhost:8080/"
        },
        "id": "2s49UsDzqhWl",
        "outputId": "63d532cb-f894-4719-d9c8-a5a49a33fd11"
      },
      "execution_count": null,
      "outputs": [
        {
          "output_type": "stream",
          "name": "stdout",
          "text": [
            "Starting Validation Evaluation Loop...\n",
            "Load 1\n",
            "Load 2\n",
            "Load 3\n",
            "Load 4\n",
            "Load 5\n",
            "Load 6\n",
            "Load 7\n",
            "Load 8\n",
            "Load 9\n",
            "Load 10\n",
            "Load 11\n",
            "Load 12\n",
            "Load 13\n",
            "Load 14\n",
            "Load 15\n",
            "Load 16\n",
            "Load 17\n",
            "Load 18\n",
            "Load 19\n",
            "Load 20\n",
            "Load 21\n",
            "Load 22\n",
            "Load 23\n",
            "Load 24\n",
            "Load 25\n",
            "Load 26\n",
            "Load 27\n",
            "Load 28\n",
            "Load 29\n",
            "Load 30\n",
            "Load 31\n",
            "Load 32\n",
            "Load 33\n",
            "Load 34\n",
            "Load 35\n",
            "Load 36\n",
            "Load 37\n",
            "Load 38\n",
            "Load 39\n",
            "Load 40\n",
            "Load 41\n",
            "Load 42\n",
            "Load 43\n",
            "Load 44\n",
            "Load 45\n",
            "Load 46\n",
            "Load 47\n",
            "Load 48\n",
            "Load 49\n",
            "Load 50\n",
            "Load 51\n",
            "Load 52\n",
            "Load 53\n",
            "Load 54\n",
            "Load 55\n",
            "Load 56\n",
            "Load 57\n",
            "Load 58\n",
            "Load 59\n",
            "Load 60\n",
            "Load 61\n",
            "Load 62\n",
            "Load 63\n",
            "Load 64\n",
            "Load 65\n",
            "Load 66\n",
            "Load 67\n",
            "Load 68\n",
            "Load 69\n",
            "Load 70\n",
            "Load 71\n",
            "Load 72\n",
            "Load 73\n",
            "Load 74\n",
            "Load 75\n",
            "Load 76\n",
            "Load 77\n",
            "Load 78\n",
            "Load 79\n",
            "Load 80\n",
            "Load 81\n",
            "Load 82\n",
            "Load 83\n",
            "Load 84\n"
          ]
        }
      ]
    },
    {
      "cell_type": "code",
      "source": [
        "lds = [x[0] for x in results_per_batch]\n",
        "cers = [x[1] for x in results_per_batch]\n",
        "wers = [x[2] for x in results_per_batch]"
      ],
      "metadata": {
        "id": "gG23NKXQP3zh"
      },
      "execution_count": null,
      "outputs": []
    },
    {
      "cell_type": "code",
      "source": [
        "print('Avg. Levenshtein Distance on validation set', sum(lds)/len(lds))\n",
        "print('Avg. Character Error Rate on validation set', sum(cers)/len(cers))\n",
        "print('Avg. Word Error Rate on validation set', sum(wers)/len(wers))"
      ],
      "metadata": {
        "colab": {
          "base_uri": "https://localhost:8080/"
        },
        "id": "91bFMOmNQY8z",
        "outputId": "b369b3a2-482d-437d-b19d-6c378afa5a6c"
      },
      "execution_count": null,
      "outputs": [
        {
          "output_type": "stream",
          "name": "stdout",
          "text": [
            "Avg. Levenshtein Distance on validation set 12.748169562612343\n",
            "Avg. Character Error Rate on validation set 0.35350644687744626\n",
            "Avg. Word Error Rate on validation set 0.7240277065417712\n"
          ]
        }
      ]
    },
    {
      "cell_type": "code",
      "source": [
        "# print few results\n",
        "for idx, ( X_batch, Y_batch) in enumerate(data_loader):\n",
        "  if idx > 10:\n",
        "    break\n",
        "  # forward propagation\n",
        "  X_in, X_len = enc(X_batch)\n",
        "  Y_pred = dec.predict(X_in.cuda())\n",
        "\n",
        "  for i, Y_hat_i in enumerate(Y_pred):\n",
        "    print('actual : ', Y_batch[i].lower(), '\\tpredicted : ', Y_hat_i)"
      ],
      "metadata": {
        "colab": {
          "base_uri": "https://localhost:8080/"
        },
        "id": "Wnu_2blq6PcS",
        "outputId": "71514972-d0f1-44fd-bed5-e053b5ab11e9"
      },
      "execution_count": null,
      "outputs": [
        {
          "output_type": "stream",
          "name": "stdout",
          "text": [
            "actual :  b'because if im amazing and you asked me' \tpredicted :  becausea fim an maze som andte youas\n",
            "actual :  b'is the kind of game that youre' \tpredicted :  is a kind of game they yoar\n",
            "actual :  b'design the game such that its' \tpredicted :  desine the game such that i\n",
            "actual :  b'as well be honest okay' \tpredicted :  is will be yu lon askame\n",
            "actual :  b'miners because they do tremendous amount' \tpredicted :  miners bcause a they doptrummendo someo\n",
            "actual :  b'let alone take some microsecond or' \tpredicted :  tat a lon thik o mike os like \n",
            "actual :  b'and try to incentivize some other part' \tpredicted :  and tyc on semetifly some o o ti\n",
            "actual :  b'uh whats that going to look like all' \tpredicted :  to wat sac an a look like\n",
            "actual :  b'but to do it its a piece of art' \tpredicted :  but to doitys of piec af lon i d\n",
            "actual :  b'okay what is uh whats whats the' \tpredicted :  loki it what its uh whats whit \n",
            "actual :  b'yeah you know the flour everything and' \tpredicted :  yeah you dotlano leshow rver thi\n",
            "actual :  b'that is i understand that there are' \tpredicted :  that dis i andthe stend lik thut ov i\n",
            "actual :  b'in the process hes a hes an actor' \tpredicted :  and the poses is ah es a macttol\n",
            "actual :  b'thats fascinating i didnt even i' \tpredicted :  thats testing a e nean \n",
            "actual :  b'didnt even think about that that you' \tpredicted :  ading o think about that that y\n",
            "actual :  b'uh italy right in in florence' \tpredicted :  ah italy it ium and in slovene\n",
            "actual :  b'not spoken outside his own immediate' \tpredicted :  not spo and iside thes on inme do\n",
            "actual :  b'and i think that rather than complaining' \tpredicted :  andht i fan commictaother than the compon\n",
            "actual :  b'we should embrace them because' \tpredicted :  we shoull imbay san becas\n",
            "actual :  b'uh is there since you speak both' \tpredicted :  i is there ssine ye speek\n",
            "actual :  b'i mean i from ive been to italy a few' \tpredicted :  anea i from iveben dataly\n",
            "actual :  b'that directly transfers to uh' \tpredicted :  that directly trans fors to uh\n",
            "actual :  b'to limit yourself to exceed right and' \tpredicted :  tole li to asef toexcee de hict\n",
            "actual :  b'right he goes to invade mexico he has' \tpredicted :  kitt glosting they maxe ico ye\n",
            "actual :  b'like youre not able to convey your' \tpredicted :  like youre re not able to conve your\n",
            "actual :  b'so i was telling before but i believe in' \tpredicted :  so i was thanyn tefor ati beli \n",
            "actual :  b'after all gold has some' \tpredicted :  afteal god u a sume o\n",
            "actual :  b'always intrigued you from the beginning' \tpredicted :  alis in trekof you fom tebey gat i\n",
            "actual :  b'artist even more but a scientist i think' \tpredicted :  artisin ten momone sientisii\n",
            "actual :  b'its up and down and uh the down seems' \tpredicted :  sup bhene own and he the downs ind\n",
            "actual :  b'i mean without death there is no life so' \tpredicted :  i thinivly fak thatf en isa life\n",
            "actual :  b'the value at which it now is trading no' \tpredicted :  lhelote wich it now is trattav kno\n",
            "actual :  b'to live a beautiful a meaningful life i' \tpredicted :  leve ut abeti foll li i maninfor life\n",
            "actual :  b'actually for me are metaphorical to say' \tpredicted :  actually for me i met aforca wosa\n",
            "actual :  b'to guarantee privacy and and give you' \tpredicted :  toge umtias a and tand geve a\n",
            "actual :  b'for doing uh something else so it is a' \tpredicted :  ot goingguh and something ansay so ides\n",
            "actual :  b'all the beautiful things around us do' \tpredicted :  tall the beti fol things around this\n",
            "actual :  b'valuable time with me today' \tpredicted :  valeble time if mea to dhat\n",
            "actual :  b'special for me to be interviewed by you' \tpredicted :  spaial fo me to be ntebe li you\n",
            "actual :  b'wealth is the ability to fully' \tpredicted :  wellf is the o bility to ful\n",
            "actual :  b'the leading minds in the fields of' \tpredicted :  leaing minds in the feeld so\n",
            "actual :  b'at the end of the day if you know that' \tpredicted :  a theman of tha they if fe al at\n",
            "actual :  b'a bouquet of basis so you need some kind' \tpredicted :  am bocao basu so you i i somes\n",
            "actual :  b'you describe the goals of a blockchain' \tpredicted :  you describe the gloas aa blog chaing\n",
            "actual :  b'and you challenge the blockchain' \tpredicted :  and you chaleng the  lock can\n",
            "actual :  b'ask simple even dumb questions all to' \tpredicted :  ask simple even dum questions all\n",
            "actual :  b'with as much grace as i can muster i' \tpredicted :  we thes much crac es lat cam muster\n",
            "actual :  b'second and the fact that they are shared' \tpredicted :  say on and the fact or et var sha\n",
            "actual :  b'how many transactions so you want but' \tpredicted :  omeny dansaction som you want o buc i\n",
            "actual :  b'scalability at this common knowledge' \tpredicted :  coability a tis commone no like\n",
            "actual :  b'like do you do you like to see certain' \tpredicted :  like doyou a do you like to se sor\n",
            "actual :  b'kind of properties in order to say' \tpredicted :  kind of propertis and  dis\n",
            "actual :  b'and chill shorting okay um evil shorting' \tpredicted :  and chil shu ewashorin\n",
            "actual :  b'um and i dont think in some cases' \tpredicted :  um and i dot think in somehases\n",
            "actual :  b'companies say this companys a fraud' \tpredicted :  comisi tis gombins a bod\n",
            "actual :  b'maybe thats okay like some but but this' \tpredicted :  maybe thats okay like some but wut th\n",
            "actual :  b'bring it to its knees' \tpredicted :  proing yo to ts  neas\n",
            "actual :  b'we just want them to to not go up as' \tpredicted :  we just wante tento to not go upt\n",
            "actual :  b'money because we had longs and shorts' \tpredicted :  money bes we hade longs andsorts\n",
            "actual :  b'because we didnt have market exposure' \tpredicted :  because we didnnt have morket explosinan\n",
            "actual :  b'correct me if im wrong but you know' \tpredicted :  correctn if fom rong but you know\n",
            "actual :  b'around the whole thing do you think it' \tpredicted :  aroung the whole thing do you think\n",
            "actual :  b'was forced to do it or was there' \tpredicted :  was force to doa it was a\n",
            "actual :  b'are short squeezes uh even if um' \tpredicted :  ore shorks reasis uh even ifum\n",
            "actual :  b'as well so these are targeted stocks' \tpredicted :  is well so theybe ia targe it sto\n",
            "actual :  b'these people are investing money in' \tpredicted :  these people ae in desting money\n",
            "actual :  b'like no its not why theyre doing it' \tpredicted :  yno i  not li deing et\n",
            "actual :  b'and so they were high chance of short' \tpredicted :  and so theyr ahize tins op pubso\n",
            "actual :  b'alternate history do you have a sense' \tpredicted :  ofta history do you have a sen\n",
            "actual :  b'history would have looked like well' \tpredicted :  hisyor with of look like wel\n",
            "actual :  b'um i think its underrated how how' \tpredicted :  um i think its under rated hom paw\n",
            "actual :  b'that says said to us uh you need to put' \tpredicted :  that say set to was u you kneed ob\n",
            "actual :  b'per per hundred dollars of short' \tpredicted :  per perh<unk>nd dal as af sthoc to\n",
            "actual :  b'which means youre buying the bad' \tpredicted :  which  means youre fing that tat\n",
            "actual :  b'i mean ultimately so okay first of all' \tpredicted :  anea a so lokkay first at\n",
            "actual :  b'with the the destroying the evil' \tpredicted :  witdh the the destroing the evvel\n",
            "actual :  b'theyre investing in new technology its' \tpredicted :  there vissin yutik ology\n",
            "actual :  b'comment on any aspects of that but like' \tpredicted :  commenan ane askpicts of thet but like\n",
            "actual :  b'around this amazing saga theyve been' \tpredicted :  aond this amazing sobgethe be\n",
            "actual :  b'thoughts about his interaction with elon' \tpredicted :  thouhts about his interaction wit e line\n",
            "actual :  b'to behave in certain kinds of ways from' \tpredicted :  to be hive an sern kinds of way wor\n",
            "actual :  b'i was very excited to see vlad response' \tpredicted :  i wald verxciety to see lit  repo\n",
            "actual :  b'its like a hes got a respectable' \tpredicted :  ts ikr hes gotto lor rerspectible\n",
            "actual :  b'tried to do like a jokey thing' \tpredicted :  trite yo like it go yo ting\n",
            "actual :  b'like no were not being ageist here' \tpredicted :  like kno wer not being agust her\n",
            "actual :  b'and paying for them but just being' \tpredicted :  ind paing for them but just beng\n",
            "actual :  b'real and then moments like this that was' \tpredicted :  rel and then moments like this ta\n",
            "actual :  b'worse by the way he presents himself' \tpredicted :  wors by the way he present somself\n",
            "actual :  b'that it feels like ceo should have and' \tpredicted :  that its fees like seel shou have\n",
            "actual :  b'possibly ever handle theres a bunch of' \tpredicted :  possibly ever handal theres a bunc\n",
            "actual :  b'users use to hype each other up' \tpredicted :  usteres use to typ eh other up\n",
            "actual :  b'but over time the whatever the dynamics' \tpredicted :  but over time the whatevver the dene\n",
            "actual :  b'so numero is the first hedge fund that' \tpredicted :  so nemerize a fort hedch fon that\n",
            "actual :  b'so when you get when you look at' \tpredicted :  so when you get when you loke\n",
            "actual :  b'machine learning or have done' \tpredicted :  bachine loning or have donere\n",
            "actual :  b'approximately what are we talking about' \tpredicted :  om procibally what at we talkting lo\n",
            "actual :  b'of budget to buy data so whats happened' \tpredicted :  of fu jict to by data so what ta\n",
            "actual :  b'maybe other totally unrelated to' \tpredicted :  maybe other atoly un e rely ditt\n",
            "actual :  b'every stock has one year momentum how' \tpredicted :  every stak has one year amenten ha\n",
            "actual :  b'is looking at the data after all this is' \tpredicted :  looking at the data after all of this is\n",
            "actual :  b'so our prediction time horizon is about' \tpredicted :  so  pretuction timearizan is about\n",
            "actual :  b'learning perspective but just to like' \tpredicted :  laters fikt the but just to \n",
            "actual :  b'up and letting anybody participate we' \tpredicted :  opan lening anybody orjuipate uh\n",
            "actual :  b'10 and 12 in an equity market neutral' \tpredicted :  <unk><unk>n an qe percento acay mariy\n",
            "actual :  b'new new techniques come out they get' \tpredicted :  you neutech ne ex came out they get\n",
            "actual :  b'add those together average those' \tpredicted :  ad those to gente avirtua\n",
            "actual :  b'in the in the sum because ensembling a' \tpredicted :  inthe in the some because on somwe\n",
            "actual :  b'the the way to invest algorithmically' \tpredicted :  the the way ton ves ot ritmicly \n",
            "actual :  b'um i guess one way to say that is the' \tpredicted :  um i guess one  way to say thas\n",
            "actual :  b'but the higher the stakes the more the' \tpredicted :  i the hire the stakes the more\n",
            "actual :  b'to be too exposed to any one' \tpredicted :  obe to exposey any one\n",
            "actual :  b'in over the last 10 years was' \tpredicted :  dinol teloshan os was\n",
            "actual :  b'tech you would not does not mean you' \tpredicted :  teck you would not does not me\n",
            "actual :  b'but um what you want to do is actually' \tpredicted :  ot um what you want to doi is actually\n",
            "actual :  b'figure out is actually if you train a' \tpredicted :  figarout is actually if you tryn\n",
            "actual :  b'uh your favorite feature lets say you' \tpredicted :  uhthe you youl faver feu like say\n",
            "actual :  b'counterintuitive thing you have to do' \tpredicted :  conter in dot of then you have so\n",
            "actual :  b'a large amount of patterns that appeared' \tpredicted :  a larg amout of patterans that a peoe\n",
            "actual :  b'one or two features you can have a lot' \tpredicted :  onder to features you can hav alo\n",
            "actual :  b'what are lets see theres like a' \tpredicted :  what ereuh lat see theres \n",
            "actual :  b'okay so we you never' \tpredicted :  apex so wen you never \n",
            "actual :  b'themselves but they can basically almost' \tpredicted :  tem seves but they can basicaly on \n",
            "actual :  b'kind of image and you can automate this' \tpredicted :  kind o imi and you can anomate thi\n",
            "actual :  b'another cloud platform is there i mean' \tpredicted :  un o the fo platform is there\n",
            "actual :  b'say that comes to mind that' \tpredicted :  say thi comes ti mind that\n",
            "actual :  b'that then runs this model and takes' \tpredicted :  that then runs tis smodel and takes\n",
            "actual :  b'some on uniswap you can buy some on' \tpredicted :  someon unis wop yocn my someo\n",
            "actual :  b'are like is this like pay to play right' \tpredicted :  like is tis like pate a play right\n",
            "actual :  b'with cute pictures of cats and dogs' \tpredicted :  with yo pictures tha cat i ot \n",
            "actual :  b'yes youre helping us make a hedge fund' \tpredicted :  yeah you helting as make a hadgfin\n",
            "actual :  b'yeah so again interests are aligned' \tpredicted :  yehs again interes tor a lig\n",
            "actual :  b'were so excited to give you three' \tpredicted :  were sor exside is gild met\n",
            "actual :  b'spend way more on the compute' \tpredicted :   sbend  way mo and we con pee\n",
            "actual :  b'ai people which is a very different kind' \tpredicted :  ai people bihis a very differenct\n",
            "actual :  b'of flavor of community and' \tpredicted :  if flawer of commuly an\n",
            "actual :  b'and i will participate in this and id' \tpredicted :  and i woper tis pidthes and\n",
            "actual :  b'important difference with something like' \tpredicted :  inpont tis difference wt something \n",
            "actual :  b'where theyll set up this kind of toy' \tpredicted :  wher ne alset op thes kind of toir\n",
            "actual :  b'why from your perspective its the' \tpredicted :  why fo you perspective its\n",
            "actual :  b'theres no guarantees that the' \tpredicted :  theis no gat ant se that\n",
            "actual :  b'same dislocations and um so' \tpredicted :  same jus locations and um so\n",
            "actual :  b'its zooming back out to the' \tpredicted :  ii s stuming back ou it to t\n",
            "actual :  b'more and effectively coordinate this' \tpredicted :  more and effectively col woranat tis\n",
            "actual :  b'nowadays i i sleep easy' \tpredicted :  now i days i i slat easy\n",
            "actual :  b'wall street bets worked at all right' \tpredicted :  w shol bets work the a right\n",
            "actual :  b'other people to be like you know what' \tpredicted :  other people to be like you know what\n",
            "actual :  b'like behavior that made sense emerged it' \tpredicted :  like be have thet mate sene e mer\n",
            "actual :  b'staking could then be transferred to' \tpredicted :  staking could then  betrans for to\n",
            "actual :  b'anonymity is freedom and power that you' \tpredicted :  a emmidy is freeddo an power thi\n",
            "actual :  b'aspect numerous staking is a really' \tpredicted :  aspect nimerize staking is a real\n",
            "actual :  b'for to stop people in fact weve open' \tpredicted :  for jut sop people infact we open\n",
            "actual :  b'actually researching now theyve had' \tpredicted :  actually resuching now thiy in\n",
            "actual :  b'which no one in the world including me' \tpredicted :  which no on in the world  cludingy\n",
            "actual :  b'yeah we know we can make money but it' \tpredicted :  eah we know we cin make men be\n",
            "actual :  b'or concern for what theyre doing' \tpredicted :  or consern uh fo what there doing\n",
            "actual :  b'and uh what are the different data sets' \tpredicted :  and uh wr ofe the different datacep\n",
            "actual :  b'so numeraids all you have to model our' \tpredicted :  so neverit al you have to mo o\n",
            "actual :  b'thats not going to be like correlated' \tpredicted :  thats not ging to be like carilati\n",
            "actual :  b'that is scraped from wall street bits' \tpredicted :  that is screte from bols pep tet um\n",
            "actual :  b'its exactly and its just like its' \tpredicted :  its exactly andi its just like\n",
            "actual :  b'to get really good so numerai already' \tpredicted :  to get reall get so neberit o re\n",
            "actual :  b'like the main data and then theres just' \tpredicted :  ack the mandata and tentertu\n",
            "actual :  b'like weirdness from all over the place' \tpredicted :  like weanes from all er the pla\n",
            "actual :  b'if there was one hedge fund um you would' \tpredicted :  if ther was one hedge fon um you wa\n",
            "actual :  b'super weird how the industry works' \tpredicted :  supo we how inderce works\n",
            "actual :  b'uh he works at nasa' \tpredicted :  ah yhou work sut nes \n",
            "actual :  b'they know that was the right one and the' \tpredicted :  they know that was h whigt one\n",
            "actual :  b'the movies like it looks like apollo 11' \tpredicted :  the mevis likelics like a polo eles\n",
            "actual :  b'hes working on getting us to jupiters' \tpredicted :  hes working on getting us to dpi\n",
            "actual :  b'all kinds of hedge funds especially but' \tpredicted :  ar kinds of hig fonspicially\n",
            "actual :  b'briefly that stock markets are good for' \tpredicted :  brifly tha stack mork sigod\n",
            "actual :  b'i its ive also seen lately' \tpredicted :  i its i ive a semlatelyla\n",
            "actual :  b'um and theres certainly a lot of' \tpredicted :  um and thees sortnny a mottof \n",
            "actual :  b'care about in our fund like we want to' \tpredicted :  care about in ore fund like w \n",
            "actual :  b'make a lot of independent' \tpredicted :  make  lot of independen\n",
            "actual :  b'a higher sharp than if you have a lot of' \tpredicted :  pahir shock thend if you have wo\n",
            "actual :  b'from the underlying value of companies' \tpredicted :  fomth under liba ou compase\n",
            "actual :  b'yeah there are a lot of games that' \tpredicted :  yeah the are a lot of i games that\n",
            "actual :  b'that are um in the derivatives market' \tpredicted :  that are um in thi drebive smart\n",
            "actual :  b'of whats happened they hate like credit' \tpredicted :  of whats happen they hay like cree\n",
            "actual :  b'and then the longterm capital' \tpredicted :  and then the long term cap\n",
            "actual :  b'a gas station and ask anybody at the gas' \tpredicted :  i gatation and as anybody at to get\n",
            "actual :  b'the i yeah i dont i dont i dont' \tpredicted :  the i yeah i i dot i dowt\n",
            "actual :  b'really its like its a bunch of people' \tpredicted :  really his like so bunch of pioe\n",
            "actual :  b'invested in and its like' \tpredicted :  ibesttidenan tits like\n",
            "actual :  b'its just its just kind of like it' \tpredicted :  its just its just kind of liike\n",
            "actual :  b'different mechanisms that money is' \tpredicted :  different mechnir is tham money\n",
            "actual :  b'becomes a totally different thing' \tpredicted :  becaus itally different thing\n",
            "actual :  b'if you if you are a hedge fund and you' \tpredicted :  if you if you are  hedc fond thi you\n",
            "actual :  b'loan which is like so now you can bring' \tpredicted :  lo which is like so no ou can bring\n",
            "actual :  b'enables innovation it enables big risk' \tpredicted :  imables inivation an alas big wi\n",
            "actual :  b'at which you cant sustain holding that' \tpredicted :  at which you con sostan foling ha\n",
            "actual :  b'something you have infinite loss' \tpredicted :  something you have intenit lo\n",
            "actual :  b'well i dont really im not looking to' \tpredicted :  well i dont really im no loke\n",
            "actual :  b'um its its like a different kind of' \tpredicted :  um its its like a different kind\n",
            "actual :  b'and you can just see it in fact you can' \tpredicted :  and you can just seet i vack\n",
            "actual :  b'win which it surely will like it it' \tpredicted :  whin which it trerelly wof like  it\n",
            "actual :  b'at uh captivating the uh like the' \tpredicted :  at u captivating the uh like \n",
            "actual :  b'often thats like funny and every time i' \tpredicted :  optin i f<unk>y in ivre time\n",
            "actual :  b'want like they believe will go down' \tpredicted :  wak they bliewik go dot\n",
            "actual :  b'that was that was really funny and then' \tpredicted :   at was  a thamas we on the\n",
            "actual :  b'uh so its an interesting situation' \tpredicted :  u so its an interestings sitiration\n",
            "actual :  b'dystopian future of just humor elon has' \tpredicted :  tistopein fusure of just huver i is\n",
            "actual :  b'everything is so theres so much levity' \tpredicted :  everything it so thi immashilivity\n",
            "actual :  b'life yeah but its its a dance and i' \tpredicted :  life yeah bit its its a dance and u\n",
            "actual :  b'lets solve them and so on and then be' \tpredicted :  lit solve them and soonan then\n",
            "actual :  b'everything uh anywhere listening owns' \tpredicted :  everythingu an youen listening on \n",
            "actual :  b'youre running a successful company and' \tpredicted :  your running a successful compay\n",
            "actual :  b'interesting because my mind has been in' \tpredicted :  interesting because my mind is ben\n",
            "actual :  b'startup kind of game like play for keeps' \tpredicted :  start op kind o gan like plat <unk><unk>k\n",
            "actual :  b'i yeah i start you can start narrowing' \tpredicted :  i yeah i stut you can stat nering\n",
            "actual :  b'so be bold so both i mean theres a' \tpredicted :  to be bod soboth i mea this a\n",
            "actual :  b'together like they can actually do it' \tpredicted :  to yother like they can atually do it\n",
            "actual :  b'bigger and bigger and bigger where that' \tpredicted :  beger am bigurein bigger where thet\n",
            "actual :  b'but just in every way possible make the' \tpredicted :  pogian every way possible le\n",
            "actual :  b'be part of something like that' \tpredicted :  be partof somto like that\n",
            "actual :  b'how we move forget money if you get all' \tpredicted :  how moe fe ave money fo you o\n",
            "actual :  b'it youre changing the fabric of society' \tpredicted :  it hi jo chaun te faplaca socide\n",
            "actual :  b'everything and if you go bold and take' \tpredicted :  everythingau an if you go bo antake\n",
            "actual :  b'as opposed to cautiously you could you' \tpredicted :  as opposed to cotiosl you can\n",
            "actual :  b'mirrors theyre really afraid theyre' \tpredicted :  teres a reallyi frad them mo\n",
            "actual :  b'the the entirety of their marketing is' \tpredicted :  the e ntiey theyre markting is\n",
            "actual :  b'to take that idea and think really big' \tpredicted :  to take the iidea and thingreally ben\n",
            "actual :  b'economics or financial perspective im' \tpredicted :  can oumake o findentral propecta\n",
            "actual :  b'to me is there some people that just' \tpredicted :  to is there some people at jo\n",
            "actual :  b'your thinking completely or is it just' \tpredicted :  youre thinking comcompletely ors i gest\n",
            "actual :  b'okay im gonna send them like an email' \tpredicted :  oat ino sanan like it ima\n",
            "actual :  b'success of a lot of people' \tpredicted :  success a la ot of people\n",
            "actual :  b'actually a cofounder of renaissance' \tpredicted :  actually a com tin a orende som\n",
            "actual :  b'and i was explaining uh how quantitative' \tpredicted :  and is explaning uh how ontotate\n",
            "actual :  b'you dont see like what im doing this' \tpredicted :  you dont see like wat a do\n",
            "actual :  b'is something so a tech company not a' \tpredicted :  is son ot a anntomba \n",
            "actual :  b'there so i really do' \tpredicted :  therr soi eeray do\n",
            "actual :  b'risky thing youre taking on' \tpredicted :  risty thing youre taking on\n",
            "actual :  b'on the mathematic side as a' \tpredicted :  on the matamatic idt\n",
            "actual :  b'um ive played poker with him it was' \tpredicted :  um lie play poka with that \n",
            "actual :  b'hedge fund managers and thats real life' \tpredicted :  had fuan interes and thats re lic\n",
            "actual :  b'betting on the loss of the' \tpredicted :  betting on a las fonm the\n",
            "actual :  b'i did feel a bit out of a place there' \tpredicted :  i did the liv it out of upplace the\n",
            "actual :  b'they also dont speak about things right' \tpredicted :  they all so doint spek about things right\n",
            "actual :  b'its like all secretive and that part i' \tpredicted :  its like all seecruit and that pat\n",
            "actual :  b'dont think its like the perfect' \tpredicted :  on think its like to o\n",
            "actual :  b'that summarizes books and athletic' \tpredicted :  that summiz is books and of lit\n",
            "actual :  b'um and maybe maybe thats good to know' \tpredicted :  um and maybe maybe thats good to noh\n",
            "actual :  b'narrow intelligence will win all the' \tpredicted :  nointelligence well win l\n",
            "actual :  b'themselves people love it when i ask' \tpredicted :  imse people ofe it whent i ass\n",
            "actual :  b'philosophers thinkers that had an' \tpredicted :  philos first thinkeres that ani\n",
            "actual :  b'uh podcasts videos all that kind of' \tpredicted :  uh picast videise all that kind of\n",
            "actual :  b'while coming up with numerai its like i' \tpredicted :  we comeme ot e ne rit is like a\n",
            "actual :  b'um uh and also its like' \tpredicted :  um uh i cie and also its lek so\n",
            "actual :  b'youre prepared to make it your lifes' \tpredicted :  you preper to make it your life\n",
            "actual :  b'its like a big fashion component like' \tpredicted :  its like af bik fation componen\n",
            "actual :  b'i would have learned a lot more' \tpredicted :  i would have learn a mot more u\n",
            "actual :  b'you learn because you get to you get to' \tpredicted :  you learncus you get to you get t\n",
            "actual :  b'that way that its just an education' \tpredicted :  that wayth its just and education\n",
            "actual :  b'or not to i get get comfortable' \tpredicted :  on that to get confirtable again\n",
            "actual :  b'and uh youre drinking whiskey and' \tpredicted :  und u you drenk i wats t\n",
            "actual :  b'and you can learn about so that i also i' \tpredicted :  a you cald lot about so that tat i was abe\n",
            "actual :  b'exceptionally busy now whos also young' \tpredicted :  septurny bisy now wes asa youn\n",
            "actual :  b'of almost gets in the way' \tpredicted :  of al was gets in the way\n",
            "actual :  b'can like that are trivial that could' \tpredicted :  ycan like that itribial like\n",
            "actual :  b'yeah and he had to like just stay in bed' \tpredicted :  yeah an y ad to like ju stan then\n",
            "actual :  b'uh yeah like it feels like its a new' \tpredicted :  uh like is its feels like its a new\n",
            "actual :  b'thats arrived on this earth and so' \tpredicted :  thats a rine on this cursth and so\n",
            "actual :  b'and so like uh just like elon right now' \tpredicted :  and so likeh just like elatorit now\n",
            "actual :  b'a lot of fatigue and you cant do your' \tpredicted :  alot of fityde and you conti\n",
            "actual :  b'and you get to carry that flag in' \tpredicted :  and a you get to cart a flag in\n",
            "actual :  b'in general is so clear' \tpredicted :  tin generalal so clear\n",
            "actual :  b'and athletic greens all in one nutrition' \tpredicted :  and bat a greens oa oney tru\n",
            "actual :  b'the the like that can be good' \tpredicted :  the the like  thert caunld we good\n",
            "actual :  b'well yeah the the cool thing is the they' \tpredicted :  wall yeah the the colthing is the\n",
            "actual :  b'whats wrong with that yeah right but it' \tpredicted :  wit tom mt that ki be t\n",
            "actual :  b'sometimes viciousness of that subreddit' \tpredicted :  so times viciosnes of that subbre\n",
            "actual :  b'whatever and they go out with signs and' \tpredicted :  whatever and they go oat it sin\n",
            "actual :  b'right nobody but these hedge funds' \tpredicted :  o nobuy but these sedh ton t\n",
            "actual :  b'really are scared i was scared' \tpredicted :  really ar scared ie w scared\n",
            "actual :  b'of the of the wall street bats people' \tpredicted :  of the of the  losre pets people\n",
            "actual :  b'yeah the anonymity is a bit terrifying' \tpredicted :  yeah the an an imaty is a bit tarifi\n",
            "actual :  b'in the next one day were talking about' \tpredicted :  and the next o one dayy a wel talkingbout\n",
            "actual :  b'um and uh and i started' \tpredicted :  um and uh and e stuted\n",
            "actual :  b'next thing and this decentralized' \tpredicted :  mexthing and this desentralize \n"
          ]
        }
      ]
    },
    {
      "cell_type": "markdown",
      "source": [
        "Evaluation on test set (Note - only run once after freezing the model)"
      ],
      "metadata": {
        "id": "jjLHNS68RaUr"
      }
    },
    {
      "cell_type": "code",
      "source": [
        "with open('/content/drive/MyDrive/Fall2021-CAPSTONE/test_list.pickle', 'rb') as f5:\n",
        "  test_list = pickle.load(f5)\n",
        "print('Total test load : ', len(test_list))"
      ],
      "metadata": {
        "colab": {
          "base_uri": "https://localhost:8080/"
        },
        "id": "cWq06i6aRddE",
        "outputId": "eded62de-88cc-44d3-e7b0-220c375c4e5b"
      },
      "execution_count": null,
      "outputs": [
        {
          "output_type": "stream",
          "name": "stdout",
          "text": [
            "Total test load :  106936\n"
          ]
        }
      ]
    },
    {
      "cell_type": "code",
      "source": [
        "results_per_batch = []\n",
        "load_index = 0\n",
        "batch_index = 0"
      ],
      "metadata": {
        "id": "dhw3XERcEMmL"
      },
      "execution_count": null,
      "outputs": []
    },
    {
      "cell_type": "code",
      "source": [
        "test_checkpoint = None\n",
        "try:\n",
        "  test_checkpoint = torch.load(TEST_CHECKPOINT, map_location=torch.device('cpu'))\n",
        "except Exception as e:\n",
        "  print(e)\n",
        "  pass"
      ],
      "metadata": {
        "colab": {
          "base_uri": "https://localhost:8080/"
        },
        "id": "YK8tlVDxENJS",
        "outputId": "499ebf6c-c632-409b-bd5e-af32298c1b08"
      },
      "execution_count": null,
      "outputs": [
        {
          "output_type": "stream",
          "name": "stdout",
          "text": [
            "[Errno 2] No such file or directory: '/content/drive/MyDrive/Fall2021-CAPSTONE/test_checkpoint.pt'\n"
          ]
        }
      ]
    },
    {
      "cell_type": "code",
      "source": [
        "if test_checkpoint is not None and bool(test_checkpoint):\n",
        "  if 'results_per_batch' in test_checkpoint and len(test_checkpoint['results_per_batch']) > 0:\n",
        "    results_per_batch = [float(x) for x in test_checkpoint['results_per_batch'].split(',')]"
      ],
      "metadata": {
        "id": "9wryxFxoEdR6"
      },
      "execution_count": null,
      "outputs": []
    },
    {
      "cell_type": "code",
      "source": [
        "print(\"Starting Test Evaluation Loop...\")\n",
        "dec.eval()\n",
        "while load_index < math.ceil(len(test_list)/load_size):\n",
        "  # create a dataset object\n",
        "  dset = CustomDataset(test_list[load_index*load_size:(load_index*load_size)+load_size])\n",
        "  # wrap it around a dataloader\n",
        "  data_loader = DataLoader(dset, batch_size = batch_size, num_workers = workers)\n",
        "\n",
        "  for idx, ( X_batch, Y_batch) in enumerate(data_loader):\n",
        "    if idx < batch_index:\n",
        "      continue\n",
        "    # forward propagation\n",
        "    X_in, X_len = enc(X_batch)\n",
        "    Y_pred = dec.predict(X_in.cuda())\n",
        "\n",
        "    # evaluation\n",
        "    avg_ld, avg_cer, avg_wer = evaluation(Y_batch, Y_pred)\n",
        "    results_per_batch.append((avg_ld, avg_cer, avg_wer))\n",
        "    batch_index += 1\n",
        "  \n",
        "  batch_index = 0\n",
        "  load_index += 1\n",
        "  print('Load', load_index)\n",
        "  torch.save({\n",
        "      'results_per_batch': ','.join([str(x) for x in results_per_batch])\n",
        "      }, TEST_CHECKPOINT)"
      ],
      "metadata": {
        "colab": {
          "base_uri": "https://localhost:8080/"
        },
        "id": "ybhRF0s2RjBJ",
        "outputId": "22c98ae4-549c-4b17-f4c3-70a557d946b8"
      },
      "execution_count": null,
      "outputs": [
        {
          "output_type": "stream",
          "name": "stdout",
          "text": [
            "Starting Test Evaluation Loop...\n",
            "Load 1\n",
            "Load 2\n",
            "Load 3\n",
            "Load 4\n",
            "Load 5\n",
            "Load 6\n",
            "Load 7\n",
            "Load 8\n",
            "Load 9\n",
            "Load 10\n",
            "Load 11\n",
            "Load 12\n",
            "Load 13\n",
            "Load 14\n",
            "Load 15\n",
            "Load 16\n",
            "Load 17\n",
            "Load 18\n",
            "Load 19\n",
            "Load 20\n",
            "Load 21\n",
            "Load 22\n",
            "Load 23\n",
            "Load 24\n",
            "Load 25\n",
            "Load 26\n",
            "Load 27\n",
            "Load 28\n",
            "Load 29\n",
            "Load 30\n",
            "Load 31\n",
            "Load 32\n",
            "Load 33\n",
            "Load 34\n",
            "Load 35\n",
            "Load 36\n",
            "Load 37\n",
            "Load 38\n",
            "Load 39\n",
            "Load 40\n",
            "Load 41\n",
            "Load 42\n",
            "Load 43\n",
            "Load 44\n",
            "Load 45\n",
            "Load 46\n",
            "Load 47\n",
            "Load 48\n",
            "Load 49\n",
            "Load 50\n",
            "Load 51\n",
            "Load 52\n",
            "Load 53\n",
            "Load 54\n",
            "Load 55\n",
            "Load 56\n",
            "Load 57\n",
            "Load 58\n",
            "Load 59\n",
            "Load 60\n",
            "Load 61\n",
            "Load 62\n",
            "Load 63\n",
            "Load 64\n",
            "Load 65\n",
            "Load 66\n",
            "Load 67\n",
            "Load 68\n",
            "Load 69\n",
            "Load 70\n",
            "Load 71\n",
            "Load 72\n",
            "Load 73\n",
            "Load 74\n",
            "Load 75\n",
            "Load 76\n",
            "Load 77\n",
            "Load 78\n",
            "Load 79\n",
            "Load 80\n",
            "Load 81\n",
            "Load 82\n",
            "Load 83\n",
            "Load 84\n"
          ]
        }
      ]
    },
    {
      "cell_type": "code",
      "source": [
        "lds = [x[0] for x in results_per_batch]\n",
        "cers = [x[1] for x in results_per_batch]\n",
        "wers = [x[2] for x in results_per_batch]"
      ],
      "metadata": {
        "id": "-shczvVDRsGz"
      },
      "execution_count": null,
      "outputs": []
    },
    {
      "cell_type": "code",
      "source": [
        "print('Avg. Levenshtein Distance on test set', sum(lds)/len(lds))\n",
        "print('Avg. Character Error Rate on test set', sum(cers)/len(cers))\n",
        "print('Avg. Word Error Rate on test set', sum(wers)/len(wers))"
      ],
      "metadata": {
        "id": "hZKVeek9Rv_o",
        "colab": {
          "base_uri": "https://localhost:8080/"
        },
        "outputId": "f6df5f5c-228c-4e46-ed39-69419e756eff"
      },
      "execution_count": null,
      "outputs": [
        {
          "output_type": "stream",
          "name": "stdout",
          "text": [
            "Avg. Levenshtein Distance on test set 12.745196417884927\n",
            "Avg. Character Error Rate on test set 0.35310290516075804\n",
            "Avg. Word Error Rate on test set 0.72458834360025\n"
          ]
        }
      ]
    },
    {
      "cell_type": "code",
      "source": [
        "# print few results\n",
        "for idx, ( X_batch, Y_batch) in enumerate(data_loader):\n",
        "  if idx > 10:\n",
        "    break\n",
        "  # forward propagation\n",
        "  X_in, X_len = enc(X_batch)\n",
        "  Y_pred = dec.predict(X_in.cuda())\n",
        "\n",
        "  for i, Y_hat_i in enumerate(Y_pred):\n",
        "    print('actual : ', Y_batch[i].lower(), '\\tpredicted : ', Y_hat_i)"
      ],
      "metadata": {
        "id": "bVzRabJzDvME",
        "colab": {
          "base_uri": "https://localhost:8080/"
        },
        "outputId": "42ed6649-ea9c-482b-f371-9b0ef5a32af7"
      },
      "execution_count": null,
      "outputs": [
        {
          "output_type": "stream",
          "name": "stdout",
          "text": [
            "actual :  b'something uh nuclear war and all the' \tpredicted :  somforng un you clere warn nex al\n",
            "actual :  b'easy reconstruct the glass hard' \tpredicted :  esegostect lat iges act\n",
            "actual :  b'function which you have a recipe that is' \tpredicted :  funktio beci ob ira ressit be thet t\n",
            "actual :  b'that we think of the most powerful gods' \tpredicted :  thatt we fhinko they last poerf gol\n",
            "actual :  b'the gods of love and death and when you' \tpredicted :  the goids  l lov len that a when\n",
            "actual :  b'erase one another you create something' \tpredicted :  ar has whone o haver yo caet something\n",
            "actual :  b'you know that you have been paid' \tpredicted :   you an al that tie youl ben pad\n",
            "actual :  b'so for reason in pseudorandom number' \tpredicted :  sofoisand in so or kone to nom\n",
            "actual :  b'morphs in cells in digital signature' \tpredicted :  amots insevin teg got asii\n",
            "actual :  b'the easy and the hard and in my opinion' \tpredicted :  thesim the hird and mhin mit be te\n",
            "actual :  b'lets uh lets go back to pseudogana' \tpredicted :  that uh lhets go backto so dokas\n",
            "actual :  b'yes first of all people think of the' \tpredicted :  ye fist te lo pi te thingk\n",
            "actual :  b'nothing but what you can do' \tpredicted :  nithinkg ut lok i could do\n",
            "actual :  b'the effort to to do this extra bit' \tpredicted :  the its fork to to go this extar bet\n",
            "actual :  b'called random usually you know these' \tpredicted :  itscaled rand om usuarly you know\n",
            "actual :  b'uh but met has been a very' \tpredicted :  ah but that thas be net o verry and tha\n",
            "actual :  b'it was this complexity of a modern' \tpredicted :  cjo wasn the scomplexi ye e mordem\n",
            "actual :  b'in the universe has 300 random beats' \tpredicted :  eleaninvers as fand a run o bits\n",
            "actual :  b'distinguish them from truly random' \tpredicted :  distang a sho em fom toly rum\n",
            "actual :  b'things to be different but i dont have' \tpredicted :  things to be diffirent but i donta\n",
            "actual :  b'uh how do you make if if it is' \tpredicted :  u t how do you make i t if\n",
            "actual :  b'it is important that we believe that' \tpredicted :  it is importton that the we dolyv\n",
            "actual :  b'almost uh by weird logic' \tpredicted :  almost up by werea blogic\n",
            "actual :  b'and so that transfer holds' \tpredicted :  and so that trans for folms\n",
            "actual :  b'say genetic apparatus dictates who we' \tpredicted :  say genatic oppihot a so dictates wo\n",
            "actual :  b'pseudorandom is as good as random' \tpredicted :  soor rend om is as good dos have no\n",
            "actual :  b'what do you think do you think quantum' \tpredicted :  what youu think do yu think qo\n",
            "actual :  b'that there are people who continue to' \tpredicted :  tet tik a the people lok conti\n",
            "actual :  b'function essentially you can boil it' \tpredicted :  function esention you can bot\n",
            "actual :  b'and hard for also quantum then you can' \tpredicted :  and uh foa solentfo then yo\n",
            "actual :  b'hope because you can absorb' \tpredicted :  helv potecaa it you can ibesoor\n",
            "actual :  b'so the particular candidates of oneway' \tpredicted :  so they boctegolins comde it o one\n",
            "actual :  b'heart problem whats in my opinion is' \tpredicted :  ho  ful of its amwin o pinn he\n",
            "actual :  b'because art form pop up another really' \tpredicted :  bcos u foma fo up iul\n",
            "actual :  b'relatable speed so in some sense i' \tpredicted :  thet i do  sped so in some sene\n",
            "actual :  b'thats just another formulation of i' \tpredicted :  thits just thanother formulation of\n",
            "actual :  b'money is a social construct okay in' \tpredicted :  money issocial constac oka ini\n",
            "actual :  b'okay so then you say well is the theorem' \tpredicted :  ok sothen is siy wel his i fe\n",
            "actual :  b'so and if i prove that i have a strategy' \tpredicted :  so anif fi a pu that evle stated\n",
            "actual :  b'and i got a hundred heads' \tpredicted :  and i glok ahund to vats\n",
            "actual :  b'from the state formal statement of a' \tpredicted :  fomot this teke sormal staytement ame\n",
            "actual :  b'the correctness of an assertion that' \tpredicted :  m te collecttirs aflo sesiom\n",
            "actual :  b'otherwise would have taken our lifetime' \tpredicted :  aetlie of the taking a life time\n",
            "actual :  b'all of them because if you dont check' \tpredicted :  al o them becaues if you dont tu\n",
            "actual :  b'it is possible to prove the truth and it' \tpredicted :  it is poible to po the toth and\n",
            "actual :  b'more once you understand this and on top' \tpredicted :  more one  understans and on pa\n",
            "actual :  b'technology as you know im very big on' \tpredicted :  tecono an yono im vacan bi\n",
            "actual :  b'makers about uh maximizing their utility' \tpredicted :  makeeres aboutu muximizing tha upility\n",
            "actual :  b'in what selfinterest in whatever way' \tpredicted :  ind wat sathe thinterst e wat ee \n",
            "actual :  b'them so what you want to do' \tpredicted :  wa tan so lotd you wong to gro\n",
            "actual :  b'like dominant strategy equilibrium when' \tpredicted :  like doman us fadtegegili be\n",
            "actual :  b'yes so if you want to reason if there is' \tpredicted :  i so an sa la reom bt\n",
            "actual :  b'and uh and after that we have to enlarge' \tpredicted :  anht enoghther ba to we ha to a lo\n",
            "actual :  b'game do you have uh favorite games that' \tpredicted :  ongame todo a botk ave e gaing\n",
            "actual :  b'your work with blockchain and algorithm' \tpredicted :  youre work with blo an alveri\n",
            "actual :  b'you make 100 bucks but if you are' \tpredicted :  youl lakeon to buxk but thif yo\n",
            "actual :  b'essentially means of it you know' \tpredicted :  the sentaby men so thit cana\n",
            "actual :  b'but why can we achieve an argon to have' \tpredicted :  but like and we achiveioa gon pla\n",
            "actual :  b'if you have to do a lot of work' \tpredicted :  if fee hav to do a lot o bowork\n",
            "actual :  b'you never know the russian whether' \tpredicted :  ni u no no a ther atro\n",
            "actual :  b'this is one last meal i must say hey' \tpredicted :  es le us e me io say aa\n",
            "actual :  b'because they survived hundreds of years' \tpredicted :  as a vasea ived honder sore\n",
            "actual :  b'one last meal i want to parmesan' \tpredicted :  helols the mev a lontu um mi jn n\n",
            "actual :  b'will accept them in return for something' \tpredicted :  we axcept them imreterm for some\n",
            "actual :  b'and the latter a the ingredient' \tpredicted :  and n a venloter a thing ein\n",
            "actual :  b'or pecorino or a mixed number two' \tpredicted :  opicte al or oraseli to\n",
            "actual :  b'social shared belief system that makes' \tpredicted :  t socalp share bely sestem tatm mak\n",
            "actual :  b'a lot of things in italy is really' \tpredicted :  al lot to fhigs ele s a really\n",
            "actual :  b'you can spend uh the entire day when im' \tpredicted :  youe gont spend tu i di ba i m\n",
            "actual :  b'so okay so i dont know if i recommend' \tpredicted :  so  like i soma\n",
            "actual :  b'because in some sense you almost had to' \tpredicted :  becos in someseneit you al most i\n",
            "actual :  b'and the vet is the nontrivial story' \tpredicted :  and he thet tesn they nonthiv al sor\n",
            "actual :  b'you essentially guess what the world' \tpredicted :  you a senthilly gas so what the word\n",
            "actual :  b'by almost osmosis what you want is a' \tpredicted :  by allmost as mostiswotty wk is a\n",
            "actual :  b'this podcast im approaching it with an' \tpredicted :  with this podcast im a proching y we\n",
            "actual :  b'people who love it and italians are not' \tpredicted :  peopleit r oovit anddinns and \n",
            "actual :  b'achieve even better form of' \tpredicted :  actuave then bit ar for\n",
            "actual :  b'communication that are using a' \tpredicted :  comminigation if the using om \n",
            "actual :  b'language with lots of resonance from the' \tpredicted :  lang uaa olot of theoons for\n",
            "actual :  b'operating yeah somebody will feed the' \tpredicted :  operating ye someboy wil fee the\n",
            "actual :  b'the whole being is language' \tpredicted :  the foll beng is man gonuct\n",
            "actual :  b'actually i certainly i im uh' \tpredicted :  actually isecoty i imu\n",
            "actual :  b'im a better level and uh and' \tpredicted :  av im bek to laeem an ah and\n",
            "actual :  b'it generates you know it shows a normal' \tpredicted :  e geneates on kno a shols obo mo\n",
            "actual :  b'so all of a sudden i found myself on the' \tpredicted :  itsa a sen i ton mysel to\n",
            "actual :  b'strength in fact is a trick' \tpredicted :  ar scind timfact ese uptak\n",
            "actual :  b'he sinks his own ship there is no return' \tpredicted :  e singis oshet fa is no thattor\n",
            "actual :  b'thats really good i i actually' \tpredicted :  that tnalesi i actuall o\n",
            "actual :  b'that the limitations is a kind of' \tpredicted :  thet te limetations is ar kind \n",
            "actual :  b'in in the russian language because i i' \tpredicted :  in in the lution lan which bcause i\n",
            "actual :  b'you know i became i became a thoughtful' \tpredicted :  you know i became i became a thot ful\n",
            "actual :  b'deeply thoughtful human in english' \tpredicted :  dep fle thogtful human in inglis\n",
            "actual :  b'not directly tied to physical goods like' \tpredicted :  not directly tide to physical goods lil\n",
            "actual :  b'and theres limitations in both' \tpredicted :  and theres limitations and bo\n",
            "actual :  b'but i cant in english express like that' \tpredicted :  but i cant in incli expresse liike tha\n",
            "actual :  b'but there is uh also so much you know' \tpredicted :  but the veasuh hocoso muhtona\n",
            "actual :  b'and power and uh and um and love in all' \tpredicted :  and por and u and m amodinall\n",
            "actual :  b'senses and in the traditional sense' \tpredicted :  senses ain the todutianaasan\n",
            "actual :  b'we humans are mortal or appear to be' \tpredicted :  we humans am moro orpered to be\n",
            "actual :  b'i gotten something that i wanted to do i' \tpredicted :  i gotema something that i wantto to\n",
            "actual :  b'maybe it was a way to motivate myself' \tpredicted :  mae wasa way to modytha  myself\n",
            "actual :  b'society and i really feel that my legacy' \tpredicted :  socidy an iale fe lat  my like as\n",
            "actual :  b'emotional problems and i think of it you' \tpredicted :  emosiona probums and i think avat\n",
            "actual :  b'you think theres meaning to it all' \tpredicted :  yo yo think theres meing to it al\n",
            "actual :  b'great thats great one too sick' \tpredicted :  great as ge one tose\n",
            "actual :  b'to seek what you know or is there no' \tpredicted :  the see wack you know se kow\n",
            "actual :  b'is uh in my opinion at the end of the' \tpredicted :  hesuh in miapin an ot t tando\n",
            "actual :  b'well i dont think theres a better way' \tpredicted :  a all i dont think thas abet\n",
            "actual :  b'thank you to our sponsors' \tpredicted :  thak youe to r ansponsers\n",
            "actual :  b'and better help online therapy click the' \tpredicted :  and bettere help on lit therpe click\n",
            "actual :  b'sponsor links to get a discount and to' \tpredicted :  sponch of links to get t discountand\n",
            "actual :  b'not we are not going to exaggerate it' \tpredicted :  not le ave not the going to ik sadjer\n",
            "actual :  b'because you know that uh' \tpredicted :   bhegos you know of it um i\n",
            "actual :  b'you know uh to to proof of work so its' \tpredicted :  youknow uh to atop to poforwork o\n",
            "actual :  b'fixed number of units or whatever' \tpredicted :  tixs numbe al vean its o whatever\n",
            "actual :  b'you can somehow write a lot of' \tpredicted :  you camn tat someo rike a lotta\n",
            "actual :  b'now yet to go into' \tpredicted :  now w yeve to go intole\n",
            "actual :  b'per second even if you look at the norm' \tpredicted :  peikot eman i shoulo cot an alo and\n",
            "actual :  b'especially about a set of technologies' \tpredicted :  especially about o set of tch now the\n",
            "actual :  b'never have a position thats like more' \tpredicted :  uhaveta have the pisition thits like \n",
            "actual :  b'right now 250 shorts um i dont know' \tpredicted :  right now to a dn<unk><unk> shotsu i dot kno\n",
            "actual :  b'necessarily yeah that doesnt sound a' \tpredicted :  hisser yeah that doesnt somd s in\n",
            "actual :  b'bit strange did i say that but' \tpredicted :  it strang ti sain ap that\n",
            "actual :  b'more in the things we do believe in' \tpredicted :  morind the bhe things we do believe\n",
            "actual :  b'investors to efficiently as far you can' \tpredicted :  investters toifficialy thes fur yo\n",
            "actual :  b'applied its power to restrict trading on' \tpredicted :  aplid its power to re stric trati \n",
            "actual :  b'theyre in a few stocks they affect kind' \tpredicted :  there in a few stocks they effect \n",
            "actual :  b'of all the other shorts too' \tpredicted :  of all the other shorts to\n",
            "actual :  b'and thats kind of the point of the' \tpredicted :  and thats kind of  the point of the\n",
            "actual :  b'and blackberry was one nokia was one' \tpredicted :  and lacter with one noke was one\n",
            "actual :  b'you know nostalgic its like youre' \tpredicted :  you know the staljic is ike\n",
            "actual :  b'to to hurt hedge funds' \tpredicted :  to to hert tetcfels\n",
            "actual :  b'damaging it could have been' \tpredicted :  demmeging it cilde teng\n",
            "actual :  b'you have to put up you know' \tpredicted :  you have to put up you \n",
            "actual :  b'on twitter at lex friedman and now' \tpredicted :  un tuitter at lex fredmen and now\n",
            "actual :  b'yeah theyre good yeah you really' \tpredicted :  yeah theyre  god yeah you real\n",
            "actual :  b'billions type hedge funds that make the' \tpredicted :  billions tye hege funs that make to\n",
            "actual :  b'media and try to kill companies but we' \tpredicted :  medea and tryto kille companies but t\n",
            "actual :  b'maybe from your perspective because you' \tpredicted :  mayb from your perspectivv because you\n",
            "actual :  b'from your perspective can you summarize' \tpredicted :  for meer perspective can you somemerin\n",
            "actual :  b'uh you know and he also had a' \tpredicted :  uh you know and hee also \n",
            "actual :  b'it was a fascinating one of the great' \tpredicted :  tat was a fascintng one of the great\n",
            "actual :  b'differently like i guess theres a lot' \tpredicted :  differenlly like i gues theres a\n",
            "actual :  b'uh what do you take from this whole' \tpredicted :  tuh what dyo you take fom u this\n",
            "actual :  b'about nothing and so i liked how he was' \tpredicted :  about no thing bu iand so i like tow you\n",
            "actual :  b'um and its its also you know connected' \tpredicted :  um and its its also you know connic\n",
            "actual :  b'i think mark zuckerberg had that too' \tpredicted :  i think mars like ber had thatsit\n",
            "actual :  b'but be honest than be like professional' \tpredicted :  tat be onest then be like prefesionl\n",
            "actual :  b'like i dont know and theres this' \tpredicted :  like i dont know in theres this \n",
            "actual :  b'nervous energy that builds up over time' \tpredicted :  nevers andag that buils o over to\n",
            "actual :  b'and then just like this mess that were' \tpredicted :  and  in just like this messtter wal\n",
            "actual :  b'to get excited to prove that that they' \tpredicted :  to get excited to prove that that\n",
            "actual :  b'we only can but it but its the kind of' \tpredicted :  we on y can fetit but thits the ki\n",
            "actual :  b'and still can trade but now they have' \tpredicted :  and still contrad but now thete\n",
            "actual :  b'um it really was a big deal well youre' \tpredicted :  um if really was a big de le \n",
            "actual :  b'kind of stuff like the what are they' \tpredicted :  tind staff like the wat\n",
            "actual :  b'whatever like i is is there' \tpredicted :  whatever like is is there\n",
            "actual :  b'all that kind of stuff' \tpredicted :  all that kind of stuff\n",
            "actual :  b'um but those are very common factors but' \tpredicted :  umtht those a very commen facters\n",
            "actual :  b'i believe this stock will go up' \tpredicted :  tybly ve stot wol goup\n",
            "actual :  b'in feature space uh makes it not a bad' \tpredicted :  in feature space u makes it not abat\n",
            "actual :  b'over and done itd be interesting to see' \tpredicted :  overan doner be interestingt se\n",
            "actual :  b'in the context of the markets like' \tpredicted :  in the context of the markes i\n",
            "actual :  b'underpriced overpriced all that kind of' \tpredicted :  onderprise for onprice o lik i\n",
            "actual :  b'fascinating open question for a machine' \tpredicted :  fascinning open question form \n",
            "actual :  b'sort of build on that' \tpredicted :  tort of build on that\n",
            "actual :  b'to see how everything played out but' \tpredicted :  to see how every thing lhat ou\n",
            "actual :  b'and that would be quite good too but' \tpredicted :  and that would be quite gid to but\n",
            "actual :  b'what we know is it obvious to you that' \tpredicted :  what we know is it obvious to you that\n",
            "actual :  b'were trying to make sure that we always' \tpredicted :  were tryn to make sure that we\n",
            "actual :  b'uh models going on or is it always' \tpredicted :  uh models going on ors it awas\n",
            "actual :  b'incredible level of coordination could' \tpredicted :  incredible lovel of cornation cold\n",
            "actual :  b'what kind of algorithms seem to do' \tpredicted :  what kind of algerthems seem to do\n",
            "actual :  b'neural networks suck uh recurring youll' \tpredicted :  neural network socku recurn\n",
            "actual :  b'know or suck transformers suck' \tpredicted :  no wore soc trans form a sock\n",
            "actual :  b'tournament maybe you would try it use' \tpredicted :  tunoman teaye you tri nou\n",
            "actual :  b'particularly interesting about the the' \tpredicted :  petiuly interesting about the the\n",
            "actual :  b'credible contracts or credible claims' \tpredicted :  credible qontracts wor t criible flams\n",
            "actual :  b'so on numerix what a lot of people' \tpredicted :  so on neveri o what abot of people\n",
            "actual :  b'on this kind of data you want to somehow' \tpredicted :  on this kind of date you wane o somehav\n",
            "actual :  b'why would you reduce your exposure to' \tpredicted :  maf you we dos oxpee\n",
            "actual :  b'with machine learning on financial data' \tpredicted :  with machine lonle ont fonentcla\n",
            "actual :  b'reduce the exposure to red lights' \tpredicted :  redu ty exposarc a red likes\n",
            "actual :  b'are trying to stay high for as long as' \tpredicted :  ar trying to stay hi foras long is\n",
            "actual :  b'and a lot of people mostly anonymous i' \tpredicted :  andthe a lot of people mostyanonlas\n",
            "actual :  b'i think for the most part anonymous can' \tpredicted :  i think fur th most prut a notmes h\n",
            "actual :  b'and take care of it we dont want it' \tpredicted :   i carefit we do want to \n",
            "actual :  b'users do is they set up a' \tpredicted :  usters ti is ay sad op ut\n",
            "actual :  b'the preferred is the aws or whether' \tpredicted :  te perfirt is thet oveis so whether i\n",
            "actual :  b'the algorithm provided in the' \tpredicted :  they igerttint porpidte in \n",
            "actual :  b'little server on the aws' \tpredicted :  little serreron the ut woou as\n",
            "actual :  b'i like it yeah but uh and more simple' \tpredicted :  ali i  anamar simple\n",
            "actual :  b'nmr numero okay so and you could buy it' \tpredicted :  and emarnur okay so and you caud byad\n",
            "actual :  b'uh you know basically anywhere yeah so' \tpredicted :  uh ye a basically an youwer yeahh\n",
            "actual :  b'thats never been done before' \tpredicted :  thats an never beng donefor\n",
            "actual :  b'reddit when you when you get into it' \tpredicted :  realik wen you weno get ent\n",
            "actual :  b'but if i if i then once you get started' \tpredicted :  but if u if fi then onc o get stared\n",
            "actual :  b'interesting how do you then' \tpredicted :  interesing u how do you then\n",
            "actual :  b'potentially try to win if this is' \tpredicted :  petentially try tof wan if thi is\n",
            "actual :  b'yeah i think um the first of all you' \tpredicted :  yeah i think um the fors wo you\n",
            "actual :  b'um but this is fundamentally a machine' \tpredicted :  um but e kor thes astunothettimacian\n",
            "actual :  b'uh so so yeah so theres these users' \tpredicted :  uh so so yeah so theres these users\n",
            "actual :  b'love to participate in this' \tpredicted :  lovte to pretispad thes\n",
            "actual :  b'intuition about the data and then like a' \tpredicted :  intuition about to data and then like o\n",
            "actual :  b'that is like working on the real stock' \tpredicted :  that is like working of the real sta\n",
            "actual :  b'yeah because theres like humans' \tpredicted :  yea hav the tis is like human\n",
            "actual :  b'the point is you aggregate them together' \tpredicted :  the point is you agigate tem together\n",
            "actual :  b'um might you might want to try this this' \tpredicted :  um my o might want o tri is be\n",
            "actual :  b'and the power of the people nature of' \tpredicted :  and the the powr the people make ton\n",
            "actual :  b'at the forum of wall street vets its' \tpredicted :   the form a vos ret tet its\n",
            "actual :  b'you can have karma on reddit' \tpredicted :  you can have combat onretits\n",
            "actual :  b'could we make it so that we could trust' \tpredicted :  cauld we make it so that we could tras\n",
            "actual :  b'we could know which model people' \tpredicted :  we could kno which model \n",
            "actual :  b'organized and made freely available' \tpredicted :  oganize and met freeally avelable\n",
            "actual :  b'uh that having a negative incentive and' \tpredicted :  uh that having an negative in sense o \n",
            "actual :  b'and staking is like this' \tpredicted :  and staking is like this\n",
            "actual :  b'its about making these perfect' \tpredicted :  ts aboutc making these perfac\n",
            "actual :  b'like imagine you could um instead of' \tpredicted :  like i megine you could um instand\n",
            "actual :  b'sell my gamestop were just going to go' \tpredicted :  sef my came stup we just ging ta go \n",
            "actual :  b'millions it could be just very small' \tpredicted :  millions i can be just very smal\n",
            "actual :  b'internet it would change and demand wall' \tpredicted :  iner ay loin and the on wer\n",
            "actual :  b'they would not they would never have' \tpredicted :  i wili not they wouldn nevr\n",
            "actual :  b'one day after the next every single' \tpredicted :  one tay up tof the naxt teverysa\n",
            "actual :  b'change you know be pretty bad would the' \tpredicted :  change you know ye pretty bad wold thew\n",
            "actual :  b'therell be like one person that says' \tpredicted :  there al be like one person that so\n",
            "actual :  b'so which is safer so i mean one thing is' \tpredicted :  s wich i sa fer some watting is\n",
            "actual :  b'like possible to have that idea' \tpredicted :  like possible to have that idea\n",
            "actual :  b'uh and umri signals and what that looks' \tpredicted :  uh an ume signals and but that we\n",
            "actual :  b'like right now i guess maybe you can' \tpredicted :  like right now i gues t makeo\n",
            "actual :  b'correct me but this the data that were' \tpredicted :  correctly but this the data th\n",
            "actual :  b'more and more and more potentially' \tpredicted :  moren more more potentialy\n",
            "actual :  b'so you have to be doing something' \tpredicted :  so you have to be douing somethig\n",
            "actual :  b'there isnt too many other signals that' \tpredicted :  thereers into many other signa\n",
            "actual :  b'um with uh you know whats happening on' \tpredicted :  um with uh you know whats happning\n",
            "actual :  b'there was a user that created i think' \tpredicted :  thi was a use of hat creaated\n",
            "actual :  b'that we use at numerai and the structure' \tpredicted :  that we use a neveri and thes trott\n",
            "actual :  b'making a sentiment score and then' \tpredicted :  making ye sentimen score and mhe\n",
            "actual :  b'that you would lose right its just a' \tpredicted :  that you would lis right um its just \n",
            "actual :  b'money uh so how do we get there' \tpredicted :  moneyuh so how do we get there\n",
            "actual :  b'the biggest thing it means is like uh' \tpredicted :  to bigges thing it means is like uh\n",
            "actual :  b'moon thats his mission the europa clip' \tpredicted :  me thats his mision the youre lopitti\n",
            "actual :  b'about it is it fundamentally still' \tpredicted :  about it is it fundamentalist\n",
            "actual :  b'out that if they all bought this bad' \tpredicted :  out that if the wal fo is bac\n",
            "actual :  b'of their value of the underlying value' \tpredicted :  of they valiy a dhenerlie v a\n",
            "actual :  b'do you see that the market often like' \tpredicted :  do you see that the markit often like\n",
            "actual :  b'or collateralized debt obligations like' \tpredicted :  all is colatterlize det obigations o\n",
            "actual :  b'leverage and they just say no' \tpredicted :  levverg mey ju say no\n",
            "actual :  b'i said lets talk to you about' \tpredicted :  i excaexat was stolko  youbu\n",
            "actual :  b'go down and then you will make money if' \tpredicted :  go do and then you make money\n",
            "actual :  b'who like kind of show up to work' \tpredicted :  tho like kind of shop to wor\n",
            "actual :  b'like i would early put in crowd sale of' \tpredicted :  like at i wa bely a put e crowd say lik\n",
            "actual :  b'just just like totally warped' \tpredicted :  sjus just like toby wark\n",
            "actual :  b'cash being exchanged 711 it feels like' \tpredicted :  cash beingchan sei win o feels like\n",
            "actual :  b'a college degree like if you didnt have' \tpredicted :  ar coledge degre i to be goun \n",
            "actual :  b'but now like weirdly you can get it with' \tpredicted :  but now like welly you can getit with\n",
            "actual :  b'economic history without these these' \tpredicted :  itnommicistre that these thess\n",
            "actual :  b'even a concept of winning out at all' \tpredicted :  uvin a concept of whening one all\n",
            "actual :  b'is is uh something youre keeping your' \tpredicted :  is is a sobethe can pe our\n",
            "actual :  b'they are i mean the theyre and many are' \tpredicted :  the a mean the there and many on\n",
            "actual :  b'privacy what is there some mechanisms of' \tpredicted :  privicy what is there som mecan tis\n",
            "actual :  b'um and so you know even' \tpredicted :  um and so you know in\n",
            "actual :  b'thats called yeah and so they can see' \tpredicted :  ahats cald yeah n so te no sa \n",
            "actual :  b'so uh so but yeah zcash then' \tpredicted :  so uh so but yeahs e cast t thi\n",
            "actual :  b'it feels like the joke' \tpredicted :  it feels like they jok\n",
            "actual :  b'why is it correlated with elon tweeting' \tpredicted :  by is a corlated with e lonto et\n",
            "actual :  b'yeah and i think you can have um like' \tpredicted :  yeah i think you hae an have um\n",
            "actual :  b'though i like the one meme' \tpredicted :  the i like the one meem\n",
            "actual :  b'theres a little probability that i' \tpredicted :  thees a  little probability that\n",
            "actual :  b'particularly because its not zero sum' \tpredicted :  pticuly because its not zee sof\n",
            "actual :  b'a good job of that now from an' \tpredicted :  a googd job of that u from\n",
            "actual :  b'how to build a successful startup how to' \tpredicted :  how to build this succeswil startup ho\n",
            "actual :  b'like and it might be a particular thing' \tpredicted :  mi in it my te a ttica thing\n",
            "actual :  b'know you got to care about this' \tpredicted :  know go a care about thes\n",
            "actual :  b'a lot of money some will lose a lot but' \tpredicted :  alot of money sume oll los a lot\n",
            "actual :  b'yeah sincerity as well like if you if' \tpredicted :  yes senserity is well like i you\n",
            "actual :  b'yeah go to mars its just so bonkers' \tpredicted :  yeah got o mars its just so bonke\n",
            "actual :  b'will make money and thats really uh' \tpredicted :  wil make ma and thats really us\n",
            "actual :  b'something totally cool something totally' \tpredicted :  something tolly who something to\n",
            "actual :  b'that when those people get in a room' \tpredicted :  that wen tost people gei a ro\n",
            "actual :  b'and coupled to the fact that shorting i' \tpredicted :  a coumpleto the fact that shorting\n",
            "actual :  b'terrible yeah this is not good um and' \tpredicted :  ceor yeah is no get um\n",
            "actual :  b'seemed i hope im not using too strong' \tpredicted :  seem pupen thi ushing to str\n",
            "actual :  b'for the worst idea ive ever heard' \tpredicted :  for the wors ily a of the herd\n",
            "actual :  b'some ideas are uh really big so like i' \tpredicted :  soe ideas are a really be so like i\n",
            "actual :  b'worked on autonomous vehicles quite a' \tpredicted :  work tot tomeo peicals qui\n",
            "actual :  b'like to yourself when youre quietly' \tpredicted :  liketo your selfwhen you quienly\n",
            "actual :  b'be willing to go bankrupt with your' \tpredicted :  be willlynto go bain cop wi o\n",
            "actual :  b'they keep raising funds so they can' \tpredicted :  they keep rasing funs o they cn\n",
            "actual :  b'to huge data collection i mean um' \tpredicted :  to huse deta collection an u\n",
            "actual :  b'and your plans that i like and its' \tpredicted :  nyoure plans that like and\n",
            "actual :  b'um like the one in meeting i had which' \tpredicted :  um mi the one and meding i had\n",
            "actual :  b'was like really good with this was' \tpredicted :  wos like realthe ga with this was\n",
            "actual :  b'meeting howard morgan uh whos a' \tpredicted :  mating how wad morean uh hos u\n",
            "actual :  b'and worked with jim simons and um' \tpredicted :  and work it jimsinand and m\n",
            "actual :  b'as a partner and they kind of said they' \tpredicted :  is a patne and they kind of san\n",
            "actual :  b'caught my eye theres something special' \tpredicted :  cot a i theres something specte\n",
            "actual :  b'you you want to have an economy' \tpredicted :  yan you want to have in thee cond\n",
            "actual :  b'in another world of mine' \tpredicted :  en another world the mind\n",
            "actual :  b'for but just always felt like these' \tpredicted :  for bijust away bul like the\n",
            "actual :  b'super smart guy um but' \tpredicted :  supas mu i um bt\n",
            "actual :  b'and like they all do a ton of' \tpredicted :  and like it al ll do shit tan\n",
            "actual :  b'going all in and im like' \tpredicted :  going al land and um like\n",
            "actual :  b'man like so i end up you know adding' \tpredicted :  the lik an i andoh you know i d\n",
            "actual :  b'youre connected to a lot of these folks' \tpredicted :  your connectti to a lot of these fo\n",
            "actual :  b'was like weird to hear because i was' \tpredicted :  was like wead to ner because i\n",
            "actual :  b'like of course it will' \tpredicted :  like of coursea wille\n",
            "actual :  b'and hes like but it but he can see hes' \tpredicted :  and es like but i b heo can se\n",
            "actual :  b'that very day is attacking the problem' \tpredicted :  that very det its tacking ta proble \n",
            "actual :  b'like prove me wrong yeah thats' \tpredicted :  like pove me wrong yeah that\n",
            "actual :  b'talk they they see good talent and' \tpredicted :  tot they they see good toli\n",
            "actual :  b'its not going to succeed' \tpredicted :  its not gan thes sikeceed\n",
            "actual :  b'quickly in some way theyre like this is' \tpredicted :  puickly and some way hea like this \n",
            "actual :  b'thats one of the most so uh' \tpredicted :  thats ne of the most so uh\n",
            "actual :  b'using this methodology of money' \tpredicted :  using this methadology f money\n",
            "actual :  b'data science and ai this is uh' \tpredicted :  data sieence and ai this isuh\n",
            "actual :  b'like a wave like its just a narrow yeah' \tpredicted :  ithat wa like  theri yeah\n",
            "actual :  b'i really what i was reading zero to one' \tpredicted :  i really what i was  readings terei ta one\n",
            "actual :  b'ideas there and its its also about' \tpredicted :  ideas then its its aso abot\n",
            "actual :  b'kind of thinking big and' \tpredicted :  kind of thinking began\n",
            "actual :  b'yeah thats a good book a book i like' \tpredicted :  yeaais a te book u book i like\n",
            "actual :  b'optimistic it puts you everything you' \tpredicted :  uptimisic it puts you everything\n",
            "actual :  b'overpowerful thats misusing their power' \tpredicted :  over porfas its li sesin the poer\n",
            "actual :  b'and argues that he argues them with the' \tpredicted :  and argus e adees them with\n",
            "actual :  b'really long time on it' \tpredicted :  really long fine on i\n",
            "actual :  b'certainly dont have a plan to sell the' \tpredicted :  sone do wan have a we n to so\n",
            "actual :  b'something ive thought about recently is' \tpredicted :  something i tolt about resonlys\n",
            "actual :  b'i had a job as a quant' \tpredicted :  i had a job as a cuont\n",
            "actual :  b'convince yourself like well i have to' \tpredicted :  canmins youself like well  ha\n",
            "actual :  b'like a bunch of papers on quant finance' \tpredicted :  like a bunch of papers on quanfindan\n",
            "actual :  b'its like its amazing how much how kind' \tpredicted :  its like its bemazing hom mi how kind\n",
            "actual :  b'think this like idea of like learning' \tpredicted :  think this like i di like  lo\n",
            "actual :  b'that too many people that know like' \tpredicted :  that to many people that know like \n",
            "actual :  b'to capture but its fun to listen to' \tpredicted :  to cacture but its funto lisens\n",
            "actual :  b'stories of i think its shawn parker he' \tpredicted :  storis of i think its trong poci\n",
            "actual :  b'coffee and then ill be fine' \tpredicted :  hofy am manall be find\n",
            "actual :  b'uh theres no like quick fix cure and' \tpredicted :  uh theres no like queck fex kuevea\n",
            "actual :  b'and youre able to uh explain it so' \tpredicted :  and youre able to uh explaines \n",
            "actual :  b'machine learning company blinkist app' \tpredicted :  machin learning company lnkis ap\n",
            "actual :  b'and so its nerve wracking its a little' \tpredicted :  a so its tere racking its i li\n",
            "actual :  b'you know the motivations which is and' \tpredicted :  ko the motivations which is\n",
            "actual :  b'because whos scared of the whos scared' \tpredicted :  because yhoure saro the t res\n",
            "actual :  b'yeah i mean yeah i i dont know what to' \tpredicted :  yeah i medh i i on know it\n",
            "actual :  b'thing and then as that develops' \tpredicted :  thing and then as that develoops\n",
            "actual :  b'of just or politics you know the the' \tpredicted :  af just or potics you know o the\n",
            "actual :  b'so do you have a do you have a sense' \tpredicted :  so do i was deist some\n",
            "actual :  b'me about it and he was like 21 years old' \tpredicted :  me about it o nems like <unk><unk> <unk>yeur s\n",
            "actual :  b'um but it was just strange to me that' \tpredicted :  uh but it was just drangs to me\n",
            "actual :  b'and now hes gonna look wait for the' \tpredicted :  and nhis you know look wiy t\n"
          ]
        }
      ]
    },
    {
      "cell_type": "code",
      "source": [
        ""
      ],
      "metadata": {
        "id": "0ToZneb9FkJ0"
      },
      "execution_count": null,
      "outputs": []
    }
  ]
}