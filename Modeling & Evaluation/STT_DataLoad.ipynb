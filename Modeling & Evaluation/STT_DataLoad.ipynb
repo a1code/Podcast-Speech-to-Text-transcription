{
  "nbformat": 4,
  "nbformat_minor": 0,
  "metadata": {
    "colab": {
      "name": "STT-DataLoad.ipynb",
      "provenance": [],
      "collapsed_sections": []
    },
    "kernelspec": {
      "display_name": "Python 3",
      "name": "python3"
    },
    "language_info": {
      "name": "python"
    }
  },
  "cells": [
    {
      "cell_type": "code",
      "metadata": {
        "id": "AuxceHHzEn4I"
      },
      "source": [
        "import zipfile\n",
        "import pickle"
      ],
      "execution_count": null,
      "outputs": []
    },
    {
      "cell_type": "markdown",
      "metadata": {
        "id": "oK5HRMPSG62Y"
      },
      "source": [
        "Data loading setup"
      ]
    },
    {
      "cell_type": "code",
      "metadata": {
        "colab": {
          "base_uri": "https://localhost:8080/"
        },
        "id": "y51p9Gk3DHvF",
        "outputId": "a13be99f-e09b-48cb-e9e8-e9243b9e4f98"
      },
      "source": [
        "# zip file handler  \n",
        "zip = zipfile.ZipFile('/content/drive/MyDrive/Fall2021-CAPSTONE/2-DataPreparation/DataSplits_bkp.zip')\n",
        "\n",
        "# list available files in the container\n",
        "l = zip.namelist()\n",
        "print(len(l))"
      ],
      "execution_count": null,
      "outputs": [
        {
          "output_type": "stream",
          "name": "stdout",
          "text": [
            "1070588\n"
          ]
        }
      ]
    },
    {
      "cell_type": "code",
      "metadata": {
        "colab": {
          "base_uri": "https://localhost:8080/"
        },
        "id": "kQMX3gutEAY7",
        "outputId": "10efce5b-bda4-4f83-9c0e-97f15760d63b"
      },
      "source": [
        "x = [k for k in l if len(list(filter(None, k.split('/'))))==4]\n",
        "len(x)"
      ],
      "execution_count": null,
      "outputs": [
        {
          "output_type": "execute_result",
          "data": {
            "text/plain": [
              "1069948"
            ]
          },
          "metadata": {},
          "execution_count": 3
        }
      ]
    },
    {
      "cell_type": "markdown",
      "source": [
        "Get length of longest sentence"
      ],
      "metadata": {
        "id": "5-sWbDd06gXO"
      }
    },
    {
      "cell_type": "code",
      "metadata": {
        "id": "rjbb_NWZq0x-"
      },
      "source": [
        "sent_lengths = []\n",
        "text_data = []\n",
        "for file in x:\n",
        "  if file.endswith('.txt'):\n",
        "    txt = zip.read(file)\n",
        "    sent_lengths.append(len(txt))"
      ],
      "execution_count": null,
      "outputs": []
    },
    {
      "cell_type": "code",
      "metadata": {
        "colab": {
          "base_uri": "https://localhost:8080/"
        },
        "id": "8X0x55vhTzoj",
        "outputId": "b2de3389-a3f5-4433-d572-cef7982876b8"
      },
      "source": [
        "MAX_LEN = max(sent_lengths)\n",
        "print('Max target length : ', MAX_LEN)"
      ],
      "execution_count": null,
      "outputs": [
        {
          "output_type": "stream",
          "name": "stdout",
          "text": [
            "Max target length :  105\n"
          ]
        }
      ]
    },
    {
      "cell_type": "markdown",
      "metadata": {
        "id": "p0VXFBhzal4e"
      },
      "source": [
        "Get Data Splits"
      ]
    },
    {
      "cell_type": "code",
      "metadata": {
        "colab": {
          "base_uri": "https://localhost:8080/"
        },
        "id": "QcLrS4kMEy0H",
        "outputId": "b3c85be4-0195-4ec1-e745-5fbc47dd3414"
      },
      "source": [
        "train = [k for k in x if 'TRAIN' in k]\n",
        "len(train)"
      ],
      "execution_count": null,
      "outputs": [
        {
          "output_type": "execute_result",
          "data": {
            "text/plain": [
              "856210"
            ]
          },
          "metadata": {},
          "execution_count": 9
        }
      ]
    },
    {
      "cell_type": "code",
      "metadata": {
        "colab": {
          "base_uri": "https://localhost:8080/"
        },
        "id": "Pq2g-XkDE9JB",
        "outputId": "88f22ba6-eaac-4325-bdbf-8e2753597045"
      },
      "source": [
        "validate = [k for k in x if 'VALIDATION' in k]\n",
        "len(validate)"
      ],
      "execution_count": null,
      "outputs": [
        {
          "output_type": "execute_result",
          "data": {
            "text/plain": [
              "106802"
            ]
          },
          "metadata": {},
          "execution_count": 10
        }
      ]
    },
    {
      "cell_type": "code",
      "metadata": {
        "colab": {
          "base_uri": "https://localhost:8080/"
        },
        "id": "IOfYPLw0FHBq",
        "outputId": "179cfa60-ca68-4482-f981-822827804477"
      },
      "source": [
        "test = [k for k in x if 'TEST' in k]\n",
        "len(test)"
      ],
      "execution_count": null,
      "outputs": [
        {
          "output_type": "execute_result",
          "data": {
            "text/plain": [
              "106936"
            ]
          },
          "metadata": {},
          "execution_count": 11
        }
      ]
    },
    {
      "cell_type": "markdown",
      "metadata": {
        "id": "_jmW1OqdBLv5"
      },
      "source": [
        "Save Loads"
      ]
    },
    {
      "cell_type": "code",
      "metadata": {
        "id": "hIO5X19cUDOJ"
      },
      "source": [
        "with open('/content/drive/MyDrive/Fall2021-CAPSTONE/max_len.pickle', 'wb') as f2:\n",
        "    pickle.dump(MAX_LEN, f2, protocol=pickle.HIGHEST_PROTOCOL)"
      ],
      "execution_count": null,
      "outputs": []
    },
    {
      "cell_type": "code",
      "metadata": {
        "id": "A2_4B__5XMxi"
      },
      "source": [
        "with open('/content/drive/MyDrive/Fall2021-CAPSTONE/train_list.pickle', 'wb') as f3:\n",
        "    pickle.dump(train, f3, protocol=pickle.HIGHEST_PROTOCOL)"
      ],
      "execution_count": null,
      "outputs": []
    },
    {
      "cell_type": "code",
      "metadata": {
        "id": "Xttzn8R8XTv9"
      },
      "source": [
        "with open('/content/drive/MyDrive/Fall2021-CAPSTONE/validate_list.pickle', 'wb') as f4:\n",
        "    pickle.dump(validate, f4, protocol=pickle.HIGHEST_PROTOCOL)"
      ],
      "execution_count": null,
      "outputs": []
    },
    {
      "cell_type": "code",
      "metadata": {
        "id": "1JoijJzjXYTi"
      },
      "source": [
        "with open('/content/drive/MyDrive/Fall2021-CAPSTONE/test_list.pickle', 'wb') as f5:\n",
        "    pickle.dump(test, f5, protocol=pickle.HIGHEST_PROTOCOL)"
      ],
      "execution_count": null,
      "outputs": []
    }
  ]
}