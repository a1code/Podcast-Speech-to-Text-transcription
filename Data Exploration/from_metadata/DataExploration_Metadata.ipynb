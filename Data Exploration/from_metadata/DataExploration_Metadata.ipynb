{
  "nbformat": 4,
  "nbformat_minor": 0,
  "metadata": {
    "colab": {
      "name": "DataExploration-Metadata.ipynb",
      "provenance": [],
      "collapsed_sections": []
    },
    "kernelspec": {
      "name": "python3",
      "display_name": "Python 3"
    },
    "language_info": {
      "name": "python"
    }
  },
  "cells": [
    {
      "cell_type": "code",
      "metadata": {
        "colab": {
          "base_uri": "https://localhost:8080/"
        },
        "id": "5hDcrYaIEy53",
        "outputId": "ae8adf95-4f5b-4c69-f29d-d8066d4ddd06"
      },
      "source": [
        "from google.colab import drive\n",
        "drive.mount('/content/drive')"
      ],
      "execution_count": 7,
      "outputs": [
        {
          "output_type": "stream",
          "name": "stdout",
          "text": [
            "Drive already mounted at /content/drive; to attempt to forcibly remount, call drive.mount(\"/content/drive\", force_remount=True).\n"
          ]
        }
      ]
    },
    {
      "cell_type": "code",
      "metadata": {
        "id": "DDqld5ygFAr1"
      },
      "source": [
        "GUESTS = '/content/drive/MyDrive/Fall2021-CAPSTONE/DataExploration/from_metadata/guest_meta.csv'"
      ],
      "execution_count": 8,
      "outputs": []
    },
    {
      "cell_type": "code",
      "metadata": {
        "id": "vyu-6LkgFC-d"
      },
      "source": [
        "PODCASTS = '/content/drive/MyDrive/Fall2021-CAPSTONE/DataExploration/from_metadata/podcast_meta.csv'"
      ],
      "execution_count": 9,
      "outputs": []
    },
    {
      "cell_type": "code",
      "metadata": {
        "id": "0ikqCuvkTsQS"
      },
      "source": [
        "import pandas as pd"
      ],
      "execution_count": 10,
      "outputs": []
    },
    {
      "cell_type": "code",
      "metadata": {
        "id": "84pN1GC9FL9c"
      },
      "source": [
        "df_guests = pd.read_csv(GUESTS)"
      ],
      "execution_count": 11,
      "outputs": []
    },
    {
      "cell_type": "code",
      "metadata": {
        "colab": {
          "base_uri": "https://localhost:8080/",
          "height": 419
        },
        "id": "rAdBVCNZFRNW",
        "outputId": "e8bbf47c-b537-43d7-b24b-38c602caa0ce"
      },
      "source": [
        "pd.set_option('display.max_colwidth', None)\n",
        "df_guests"
      ],
      "execution_count": 12,
      "outputs": [
        {
          "output_type": "execute_result",
          "data": {
            "text/html": [
              "<div>\n",
              "<style scoped>\n",
              "    .dataframe tbody tr th:only-of-type {\n",
              "        vertical-align: middle;\n",
              "    }\n",
              "\n",
              "    .dataframe tbody tr th {\n",
              "        vertical-align: top;\n",
              "    }\n",
              "\n",
              "    .dataframe thead th {\n",
              "        text-align: right;\n",
              "    }\n",
              "</style>\n",
              "<table border=\"1\" class=\"dataframe\">\n",
              "  <thead>\n",
              "    <tr style=\"text-align: right;\">\n",
              "      <th></th>\n",
              "      <th>name</th>\n",
              "      <th>bio</th>\n",
              "    </tr>\n",
              "  </thead>\n",
              "  <tbody>\n",
              "    <tr>\n",
              "      <th>0</th>\n",
              "      <td>Chris Duffin</td>\n",
              "      <td>Chris Duffin is a strength athlete, coach, and engineer, setting multiple strength world records including squatting and deadlifting 1000 lbs for multiple reps</td>\n",
              "    </tr>\n",
              "    <tr>\n",
              "      <th>1</th>\n",
              "      <td>Jason Calacanis</td>\n",
              "      <td>Jason Calacanis is an angel investor, entrepreneur, and co-host of All-In Podcast and This Week in Startups</td>\n",
              "    </tr>\n",
              "    <tr>\n",
              "      <th>2</th>\n",
              "      <td>David Fravor</td>\n",
              "      <td>David Fravor is a navy pilot of 18 years and a primary witness in one of the most credible UFO sightings in history</td>\n",
              "    </tr>\n",
              "    <tr>\n",
              "      <th>3</th>\n",
              "      <td>Sebastian Thrun</td>\n",
              "      <td>NaN</td>\n",
              "    </tr>\n",
              "    <tr>\n",
              "      <th>4</th>\n",
              "      <td>Cristos Goodrow</td>\n",
              "      <td>Cristos Goodrow is VP of Engineering at Google and head of Search and Discovery at YouTube (aka YouTube Algorithm)</td>\n",
              "    </tr>\n",
              "    <tr>\n",
              "      <th>...</th>\n",
              "      <td>...</td>\n",
              "      <td>...</td>\n",
              "    </tr>\n",
              "    <tr>\n",
              "      <th>207</th>\n",
              "      <td>Leslie Kaelbling</td>\n",
              "      <td>NaN</td>\n",
              "    </tr>\n",
              "    <tr>\n",
              "      <th>208</th>\n",
              "      <td>Gilbert Strang</td>\n",
              "      <td>NaN</td>\n",
              "    </tr>\n",
              "    <tr>\n",
              "      <th>209</th>\n",
              "      <td>Garry Kasparov</td>\n",
              "      <td>NaN</td>\n",
              "    </tr>\n",
              "    <tr>\n",
              "      <th>210</th>\n",
              "      <td>Eugenia Kuyda</td>\n",
              "      <td>Eugenia Kuyda co-founder of Replika, an AI companion</td>\n",
              "    </tr>\n",
              "    <tr>\n",
              "      <th>211</th>\n",
              "      <td>Yann LeCun</td>\n",
              "      <td>NaN</td>\n",
              "    </tr>\n",
              "  </tbody>\n",
              "</table>\n",
              "<p>212 rows × 2 columns</p>\n",
              "</div>"
            ],
            "text/plain": [
              "                 name                                                                                                                                                              bio\n",
              "0        Chris Duffin  Chris Duffin is a strength athlete, coach, and engineer, setting multiple strength world records including squatting and deadlifting 1000 lbs for multiple reps\n",
              "1     Jason Calacanis                                                      Jason Calacanis is an angel investor, entrepreneur, and co-host of All-In Podcast and This Week in Startups\n",
              "2        David Fravor                                              David Fravor is a navy pilot of 18 years and a primary witness in one of the most credible UFO sightings in history\n",
              "3     Sebastian Thrun                                                                                                                                                              NaN\n",
              "4     Cristos Goodrow                                               Cristos Goodrow is VP of Engineering at Google and head of Search and Discovery at YouTube (aka YouTube Algorithm)\n",
              "..                ...                                                                                                                                                              ...\n",
              "207  Leslie Kaelbling                                                                                                                                                              NaN\n",
              "208    Gilbert Strang                                                                                                                                                              NaN\n",
              "209    Garry Kasparov                                                                                                                                                              NaN\n",
              "210     Eugenia Kuyda                                                                                                             Eugenia Kuyda co-founder of Replika, an AI companion\n",
              "211        Yann LeCun                                                                                                                                                              NaN\n",
              "\n",
              "[212 rows x 2 columns]"
            ]
          },
          "metadata": {},
          "execution_count": 12
        }
      ]
    },
    {
      "cell_type": "code",
      "metadata": {
        "colab": {
          "base_uri": "https://localhost:8080/"
        },
        "id": "p8hvqbVmHMxE",
        "outputId": "1494936f-81cd-4e38-e29d-b5ac8ab60908"
      },
      "source": [
        "df_guests.isna().sum()"
      ],
      "execution_count": 13,
      "outputs": [
        {
          "output_type": "execute_result",
          "data": {
            "text/plain": [
              "name     0\n",
              "bio     61\n",
              "dtype: int64"
            ]
          },
          "metadata": {},
          "execution_count": 13
        }
      ]
    },
    {
      "cell_type": "code",
      "metadata": {
        "id": "SRhLcRYFFg6j"
      },
      "source": [
        "df_podcasts = pd.read_csv(PODCASTS)"
      ],
      "execution_count": 14,
      "outputs": []
    },
    {
      "cell_type": "code",
      "metadata": {
        "colab": {
          "base_uri": "https://localhost:8080/",
          "height": 419
        },
        "id": "AMAN5XECFl6K",
        "outputId": "ea23c46f-81b3-4614-8bf5-9b636659a6e9"
      },
      "source": [
        "df_podcasts"
      ],
      "execution_count": 15,
      "outputs": [
        {
          "output_type": "execute_result",
          "data": {
            "text/html": [
              "<div>\n",
              "<style scoped>\n",
              "    .dataframe tbody tr th:only-of-type {\n",
              "        vertical-align: middle;\n",
              "    }\n",
              "\n",
              "    .dataframe tbody tr th {\n",
              "        vertical-align: top;\n",
              "    }\n",
              "\n",
              "    .dataframe thead th {\n",
              "        text-align: right;\n",
              "    }\n",
              "</style>\n",
              "<table border=\"1\" class=\"dataframe\">\n",
              "  <thead>\n",
              "    <tr style=\"text-align: right;\">\n",
              "      <th></th>\n",
              "      <th>titles</th>\n",
              "      <th>ratings</th>\n",
              "      <th>lengths</th>\n",
              "      <th>views</th>\n",
              "    </tr>\n",
              "  </thead>\n",
              "  <tbody>\n",
              "    <tr>\n",
              "      <th>0</th>\n",
              "      <td>Chris Duffin_ The Mad Scientist of Strength _ Lex Fridman Podcast _207</td>\n",
              "      <td>4.895561</td>\n",
              "      <td>9777</td>\n",
              "      <td>173399</td>\n",
              "    </tr>\n",
              "    <tr>\n",
              "      <th>1</th>\n",
              "      <td>Jason Calacanis_ Startups_ Angel Investing_ Capitalism_ and Friendship _ Lex Fridman Podcast _161</td>\n",
              "      <td>4.838706</td>\n",
              "      <td>7870</td>\n",
              "      <td>246100</td>\n",
              "    </tr>\n",
              "    <tr>\n",
              "      <th>2</th>\n",
              "      <td>David Fravor_ UFOs_ Aliens_ Fighter Jets_ and Aerospace Engineering _ Lex Fridman Podcast _122</td>\n",
              "      <td>4.767675</td>\n",
              "      <td>14184</td>\n",
              "      <td>4881542</td>\n",
              "    </tr>\n",
              "    <tr>\n",
              "      <th>3</th>\n",
              "      <td>Sebastian Thrun_ Flying Cars_ Autonomous Vehicles_ and Education _ Lex Fridman Podcast _59</td>\n",
              "      <td>4.919451</td>\n",
              "      <td>4714</td>\n",
              "      <td>60562</td>\n",
              "    </tr>\n",
              "    <tr>\n",
              "      <th>4</th>\n",
              "      <td>Cristos Goodrow_ YouTube Algorithm _ Lex Fridman Podcast _68</td>\n",
              "      <td>4.832593</td>\n",
              "      <td>5452</td>\n",
              "      <td>43164</td>\n",
              "    </tr>\n",
              "    <tr>\n",
              "      <th>...</th>\n",
              "      <td>...</td>\n",
              "      <td>...</td>\n",
              "      <td>...</td>\n",
              "      <td>...</td>\n",
              "    </tr>\n",
              "    <tr>\n",
              "      <th>207</th>\n",
              "      <td>Leslie Kaelbling_ Reinforcement Learning_ Planning_ and Robotics _ Lex Fridman Podcast _15</td>\n",
              "      <td>4.946349</td>\n",
              "      <td>3683</td>\n",
              "      <td>21993</td>\n",
              "    </tr>\n",
              "    <tr>\n",
              "      <th>208</th>\n",
              "      <td>Gilbert Strang_ Linear Algebra_ Teaching_ and MIT OpenCourseWare _ Lex Fridman Podcast _52</td>\n",
              "      <td>4.961246</td>\n",
              "      <td>2993</td>\n",
              "      <td>139446</td>\n",
              "    </tr>\n",
              "    <tr>\n",
              "      <th>209</th>\n",
              "      <td>Garry Kasparov_ Chess_ Deep Blue_ AI_ and Putin _ Lex Fridman Podcast _46</td>\n",
              "      <td>4.899026</td>\n",
              "      <td>3324</td>\n",
              "      <td>325772</td>\n",
              "    </tr>\n",
              "    <tr>\n",
              "      <th>210</th>\n",
              "      <td>Eugenia Kuyda_ Friendship with an AI Companion _ Lex Fridman Podcast _121</td>\n",
              "      <td>4.862124</td>\n",
              "      <td>10866</td>\n",
              "      <td>188990</td>\n",
              "    </tr>\n",
              "    <tr>\n",
              "      <th>211</th>\n",
              "      <td>Yann LeCun_ Deep Learning_ ConvNets_ and Self_Supervised Learning _ Lex Fridman Podcast _36</td>\n",
              "      <td>4.933997</td>\n",
              "      <td>4558</td>\n",
              "      <td>117368</td>\n",
              "    </tr>\n",
              "  </tbody>\n",
              "</table>\n",
              "<p>212 rows × 4 columns</p>\n",
              "</div>"
            ],
            "text/plain": [
              "                                                                                                titles  ...    views\n",
              "0                               Chris Duffin_ The Mad Scientist of Strength _ Lex Fridman Podcast _207  ...   173399\n",
              "1    Jason Calacanis_ Startups_ Angel Investing_ Capitalism_ and Friendship _ Lex Fridman Podcast _161  ...   246100\n",
              "2       David Fravor_ UFOs_ Aliens_ Fighter Jets_ and Aerospace Engineering _ Lex Fridman Podcast _122  ...  4881542\n",
              "3           Sebastian Thrun_ Flying Cars_ Autonomous Vehicles_ and Education _ Lex Fridman Podcast _59  ...    60562\n",
              "4                                         Cristos Goodrow_ YouTube Algorithm _ Lex Fridman Podcast _68  ...    43164\n",
              "..                                                                                                 ...  ...      ...\n",
              "207         Leslie Kaelbling_ Reinforcement Learning_ Planning_ and Robotics _ Lex Fridman Podcast _15  ...    21993\n",
              "208         Gilbert Strang_ Linear Algebra_ Teaching_ and MIT OpenCourseWare _ Lex Fridman Podcast _52  ...   139446\n",
              "209                          Garry Kasparov_ Chess_ Deep Blue_ AI_ and Putin _ Lex Fridman Podcast _46  ...   325772\n",
              "210                          Eugenia Kuyda_ Friendship with an AI Companion _ Lex Fridman Podcast _121  ...   188990\n",
              "211        Yann LeCun_ Deep Learning_ ConvNets_ and Self_Supervised Learning _ Lex Fridman Podcast _36  ...   117368\n",
              "\n",
              "[212 rows x 4 columns]"
            ]
          },
          "metadata": {},
          "execution_count": 15
        }
      ]
    },
    {
      "cell_type": "code",
      "metadata": {
        "colab": {
          "base_uri": "https://localhost:8080/",
          "height": 297
        },
        "id": "4UKci28eFv9B",
        "outputId": "2c5cdbfb-6414-447e-d430-6ffe91527340"
      },
      "source": [
        "df_podcasts[['ratings', 'lengths', 'views']].describe()"
      ],
      "execution_count": 16,
      "outputs": [
        {
          "output_type": "execute_result",
          "data": {
            "text/html": [
              "<div>\n",
              "<style scoped>\n",
              "    .dataframe tbody tr th:only-of-type {\n",
              "        vertical-align: middle;\n",
              "    }\n",
              "\n",
              "    .dataframe tbody tr th {\n",
              "        vertical-align: top;\n",
              "    }\n",
              "\n",
              "    .dataframe thead th {\n",
              "        text-align: right;\n",
              "    }\n",
              "</style>\n",
              "<table border=\"1\" class=\"dataframe\">\n",
              "  <thead>\n",
              "    <tr style=\"text-align: right;\">\n",
              "      <th></th>\n",
              "      <th>ratings</th>\n",
              "      <th>lengths</th>\n",
              "      <th>views</th>\n",
              "    </tr>\n",
              "  </thead>\n",
              "  <tbody>\n",
              "    <tr>\n",
              "      <th>count</th>\n",
              "      <td>212.000000</td>\n",
              "      <td>212.000000</td>\n",
              "      <td>2.120000e+02</td>\n",
              "    </tr>\n",
              "    <tr>\n",
              "      <th>mean</th>\n",
              "      <td>4.884365</td>\n",
              "      <td>7038.349057</td>\n",
              "      <td>3.563384e+05</td>\n",
              "    </tr>\n",
              "    <tr>\n",
              "      <th>std</th>\n",
              "      <td>0.061410</td>\n",
              "      <td>2883.282284</td>\n",
              "      <td>5.610591e+05</td>\n",
              "    </tr>\n",
              "    <tr>\n",
              "      <th>min</th>\n",
              "      <td>4.524468</td>\n",
              "      <td>1965.000000</td>\n",
              "      <td>1.784700e+04</td>\n",
              "    </tr>\n",
              "    <tr>\n",
              "      <th>25%</th>\n",
              "      <td>4.862245</td>\n",
              "      <td>4806.250000</td>\n",
              "      <td>7.606525e+04</td>\n",
              "    </tr>\n",
              "    <tr>\n",
              "      <th>50%</th>\n",
              "      <td>4.897732</td>\n",
              "      <td>6622.500000</td>\n",
              "      <td>1.515580e+05</td>\n",
              "    </tr>\n",
              "    <tr>\n",
              "      <th>75%</th>\n",
              "      <td>4.922474</td>\n",
              "      <td>9304.000000</td>\n",
              "      <td>3.528318e+05</td>\n",
              "    </tr>\n",
              "    <tr>\n",
              "      <th>max</th>\n",
              "      <td>4.977918</td>\n",
              "      <td>15319.000000</td>\n",
              "      <td>4.881542e+06</td>\n",
              "    </tr>\n",
              "  </tbody>\n",
              "</table>\n",
              "</div>"
            ],
            "text/plain": [
              "          ratings       lengths         views\n",
              "count  212.000000    212.000000  2.120000e+02\n",
              "mean     4.884365   7038.349057  3.563384e+05\n",
              "std      0.061410   2883.282284  5.610591e+05\n",
              "min      4.524468   1965.000000  1.784700e+04\n",
              "25%      4.862245   4806.250000  7.606525e+04\n",
              "50%      4.897732   6622.500000  1.515580e+05\n",
              "75%      4.922474   9304.000000  3.528318e+05\n",
              "max      4.977918  15319.000000  4.881542e+06"
            ]
          },
          "metadata": {},
          "execution_count": 16
        }
      ]
    }
  ]
}